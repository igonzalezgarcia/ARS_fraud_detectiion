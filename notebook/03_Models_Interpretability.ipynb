{
 "cells": [
  {
   "cell_type": "markdown",
   "id": "af4aa769",
   "metadata": {},
   "source": [
    "## PREDICTIVE MODELS"
   ]
  },
  {
   "cell_type": "markdown",
   "id": "ab0ef264",
   "metadata": {},
   "source": [
    "After having carried out the treatment and selection of variables, the next step will correspond to the evaluation and selection of the models. As previously mentioned, this process will be carried out following two paths.\n",
    "\n",
    "     Option 1: Not following the fraud pattern\n",
    "     Option 2: Following the pattern."
   ]
  },
  {
   "cell_type": "markdown",
   "id": "09a89440",
   "metadata": {},
   "source": [
    "#### LIBRARIES"
   ]
  },
  {
   "cell_type": "code",
   "execution_count": 82,
   "id": "8f340a54",
   "metadata": {},
   "outputs": [],
   "source": [
    "import pandas as pd \n",
    "import numpy as np\n",
    "import sklearn\n",
    "from sklearn.pipeline import Pipeline\n",
    "from sklearn import metrics\n",
    "import matplotlib.pyplot as plt\n",
    "import seaborn as sns\n",
    "import scipy\n",
    "import warnings\n",
    "from sklearn.model_selection import train_test_split\n",
    "from sklearn.preprocessing import StandardScaler\n",
    "from sklearn.ensemble import RandomForestRegressor\n",
    "from sklearn.metrics import accuracy_score, roc_curve,roc_auc_score, \\\n",
    "                            classification_report, confusion_matrix, \\\n",
    "                            precision_recall_curve, precision_score, \\\n",
    "                            f1_score\n",
    "from sklearn.neighbors import KNeighborsClassifier\n",
    "from sklearn.svm import SVC, LinearSVC, NuSVC\n",
    "from sklearn.tree import DecisionTreeClassifier\n",
    "from sklearn.ensemble import RandomForestClassifier, AdaBoostClassifier, GradientBoostingClassifier\n",
    "from sklearn.discriminant_analysis import LinearDiscriminantAnalysis\n",
    "from sklearn.discriminant_analysis import QuadraticDiscriminantAnalysis\n",
    "import xgboost as xgb\n",
    "import lightgbm as lgb \n",
    "from imblearn import under_sampling, over_sampling\n",
    "from imblearn.over_sampling import SMOTE\n",
    "from imblearn.under_sampling import RandomUnderSampler\n",
    "from imblearn.over_sampling import RandomOverSampler\n",
    "from sklearn import svm\n",
    "from sklearn.linear_model import LogisticRegression\n",
    "from sklearn import linear_model\n",
    "from sklearn.linear_model import SGDClassifier\n",
    "from sklearn.model_selection import GridSearchCV, RandomizedSearchCV\n",
    "from sklearn.model_selection import ParameterSampler\n",
    "from sklearn.model_selection import cross_val_score\n",
    "from sklearn.metrics import plot_confusion_matrix\n",
    "import scikitplot as skplt\n",
    "import matplotlib.pyplot as plt\n",
    "from sklearn.metrics import fbeta_score\n",
    "import shap\n",
    "from sklearn.inspection import partial_dependence"
   ]
  },
  {
   "cell_type": "code",
   "execution_count": null,
   "id": "55eb3c26",
   "metadata": {},
   "outputs": [],
   "source": [
    "pip install pipreqs"
   ]
  },
  {
   "cell_type": "code",
   "execution_count": null,
   "id": "a7504321",
   "metadata": {},
   "outputs": [],
   "source": [
    "python3 -m  pipreqs.pipreqs"
   ]
  },
  {
   "cell_type": "markdown",
   "id": "a720f9e5",
   "metadata": {},
   "source": [
    "#### Warnings"
   ]
  },
  {
   "cell_type": "code",
   "execution_count": 2,
   "id": "db56e9cf",
   "metadata": {},
   "outputs": [],
   "source": [
    "warnings.filterwarnings('ignore')"
   ]
  },
  {
   "cell_type": "markdown",
   "id": "2f92e938",
   "metadata": {},
   "source": [
    "#### Functions"
   ]
  },
  {
   "cell_type": "code",
   "execution_count": 3,
   "id": "750866a9",
   "metadata": {},
   "outputs": [],
   "source": [
    "def get_models_score(classifiers, X_train, Y_train):\n",
    "    \n",
    "    for classifier in classifiers:\n",
    "\n",
    "        classifier.fit(X_train, Y_train)  \n",
    "        y_pred = classifier.predict(X_test)\n",
    "        print(classifier)\n",
    "        print(\"model score: %.3f\" % classifier.score(X_test, Y_test))\n",
    "        print(\"Accuracy:\",metrics.accuracy_score(Y_test, y_pred))\n",
    "        \n",
    "def get_GLM_models_score(classifiers, X_train, Y_train):\n",
    "    \n",
    "    for classifier in classifiers:\n",
    "\n",
    "        classifier.fit(X_train, Y_train)  \n",
    "        print(classifier)\n",
    "        print(\"model score: %.3f\" % classifier.score(X_test, Y_test))\n",
    "        \n",
    "def tuning_LGBM(model, X_train, Y_train):\n",
    "    \n",
    "    rs_params = {\n",
    "            'bagging_fraction': (0.5, 0.8),\n",
    "            'bagging_frequency': (5, 8),\n",
    "            'feature_fraction': (0.5, 0.8),\n",
    "            'max_depth': (20, 50),\n",
    "            'min_data_in_leaf': (10, 20),\n",
    "            'num_leaves': (10, 100, 200),\n",
    "            'n_estimators': (50, 100)\n",
    "    }\n",
    "\n",
    "    CV = RandomizedSearchCV(model, rs_params, cv=10, random_state=seed, n_jobs=2)\n",
    "\n",
    "    CV.fit(X_train, Y_train)  \n",
    "    print(CV.best_params_)    \n",
    "    print(CV.best_score_)\n",
    "    \n",
    "def tuning_XGB(model, X_train, Y_train):\n",
    "    \n",
    "    params= {\n",
    "            'learning_rate':[0.01, 0.1],\n",
    "            'max_depth':[2,5],\n",
    "            'min_child_weight':[1,3,5],\n",
    "            'subsample':[.5, .7],\n",
    "            'n_estimators':[100,150]\n",
    "    }\n",
    "    \n",
    "    CV = RandomizedSearchCV(model, params, cv=10, random_state=seed, n_jobs=2)\n",
    "\n",
    "    CV.fit(X_train, Y_train)  \n",
    "    print(CV.best_params_)    \n",
    "    print(CV.best_score_)\n",
    "\n",
    "        \n",
    "def get_confusion_matrix(model, X_test, Y_test):\n",
    "    \n",
    "    titles_options = [(\"Confusion matrix, without normalization\", None),\n",
    "                  (\"Normalized confusion matrix\", 'true')]\n",
    "\n",
    "    for title, normalize in titles_options:\n",
    "        \n",
    "        disp = plot_confusion_matrix(model, X_test, Y_test,\n",
    "\n",
    "                                     cmap=plt.cm.Blues,\n",
    "                                     normalize=normalize)\n",
    "        disp.ax_.set_title(title)\n",
    "\n",
    "        print(title)\n",
    "        print(disp.confusion_matrix)\n",
    "\n",
    "    plt.show()\n",
    "    \n",
    "def get_model_report(Y_test, y_pred):\n",
    "    \n",
    "    print(\"Classification Report\")\n",
    "    print(classification_report(Y_test, y_pred))\n",
    "    \n",
    "def evaluate_model(ytest, ypred, ypred_proba = None):\n",
    "    \n",
    "    if ypred_proba is not None:\n",
    "        print('ROC-AUC score of the model: {}'.format(roc_auc_score(ytest, ypred_proba[:, 1])))\n",
    "    print('Accuracy of the model: {}\\n'.format(accuracy_score(ytest, ypred)))\n",
    "    print('Classification report: \\n{}\\n'.format(classification_report(ytest, ypred)))\n",
    "    print('Confusion matrix: \\n{}\\n'.format(confusion_matrix(ytest, ypred)))\n",
    "\n",
    "def get_roc_curves(ytest, yhat):\n",
    "    \n",
    "    \n",
    "    fpr, tpr, thresholds = roc_curve(ytest, yhat)\n",
    "    \n",
    "    plt.plot([0,1], [0,1], linestyle='--', label='No Skill')\n",
    "    plt.plot(fpr, tpr, marker='.', label='LGBM')\n",
    "   \n",
    "    plt.xlabel('False Positive Rate')\n",
    "    plt.ylabel('True Positive Rate')\n",
    "    plt.legend()\n",
    "    \n",
    "    plt.show()\n",
    "    \n",
    "    gmeans = np.sqrt(tpr * (1-fpr))\n",
    "    \n",
    "    ix = np.argmax(gmeans)\n",
    "    print('Best Threshold=%f, G-Mean=%.3f' % (thresholds[ix], gmeans[ix]))\n",
    "    \n",
    "    plt.plot([0,1], [0,1], linestyle='--', label='No Skill')\n",
    "    plt.plot(fpr, tpr, marker='.', label='LGBM')\n",
    "    plt.scatter(fpr[ix], tpr[ix], s=100, marker='o', color='black', label='Best')\n",
    "    plt.xlabel('False Positive Rate')\n",
    "    plt.ylabel('True Positive Rate')\n",
    "    plt.legend()\n",
    "    plt.show()\n",
    "\n",
    "def get_precission_recall_curve(ytest):\n",
    "    \n",
    "    no_skill = len(ytest[ytest==1]) / len(ytest)\n",
    "    plt.plot([0,1], [no_skill,no_skill], linestyle='--', label='No Skill')\n",
    "    plt.plot(recall, precision, marker='.', label='LGBM')\n",
    "    plt.xlabel('Recall')\n",
    "    plt.ylabel('Precision')\n",
    "    plt.legend()\n",
    "    plt.show()\n",
    "    \n",
    "    \n",
    "    fscore = (2 * precision * recall) / (precision + recall)\n",
    "    ix = np.argmax(fscore)\n",
    "    print('Best Threshold=%f, F-Score=%.3f' % (thresholds[ix], fscore[ix]))\n",
    "    no_skill = len(ytest[ytest==1]) / len(ytest)\n",
    "    plt.plot([0,1], [no_skill,no_skill], linestyle='--', label='No Skill')\n",
    "    plt.plot(recall, precision, marker='.', label='LGBM')\n",
    "    plt.scatter(recall[ix], precision[ix], s=100, marker='o', color='black', label='Best')\n",
    "    plt.xlabel('Recall')\n",
    "    plt.ylabel('Precision')\n",
    "    plt.legend()\n",
    "    plt.show()\n",
    "        "
   ]
  },
  {
   "cell_type": "markdown",
   "id": "11fda3ee",
   "metadata": {},
   "source": [
    "##### Parametrisation"
   ]
  },
  {
   "cell_type": "code",
   "execution_count": 4,
   "id": "1198a26a",
   "metadata": {},
   "outputs": [],
   "source": [
    "csv_path_op1 = '../data/fraud_df_processed.csv'\n",
    "csv_path_op2 = '../data/fraud_df_transformed.csv'\n",
    "seed = 123456\n",
    "sampling_strategy = 1\n",
    "beta = 2\n",
    "test_size = 0.25"
   ]
  },
  {
   "cell_type": "markdown",
   "id": "7fd123d4",
   "metadata": {},
   "source": [
    "##### Data"
   ]
  },
  {
   "cell_type": "code",
   "execution_count": 5,
   "id": "261f9ace",
   "metadata": {},
   "outputs": [
    {
     "data": {
      "text/html": [
       "<div>\n",
       "<style scoped>\n",
       "    .dataframe tbody tr th:only-of-type {\n",
       "        vertical-align: middle;\n",
       "    }\n",
       "\n",
       "    .dataframe tbody tr th {\n",
       "        vertical-align: top;\n",
       "    }\n",
       "\n",
       "    .dataframe thead th {\n",
       "        text-align: right;\n",
       "    }\n",
       "</style>\n",
       "<table border=\"1\" class=\"dataframe\">\n",
       "  <thead>\n",
       "    <tr style=\"text-align: right;\">\n",
       "      <th></th>\n",
       "      <th>step</th>\n",
       "      <th>type_PAYMENT</th>\n",
       "      <th>type_TRANSFER</th>\n",
       "      <th>type_CASHOUT</th>\n",
       "      <th>type_DEBIT</th>\n",
       "      <th>type_CASHIN</th>\n",
       "      <th>amount</th>\n",
       "      <th>device_MAC</th>\n",
       "      <th>device_PC</th>\n",
       "      <th>device_IPHONE</th>\n",
       "      <th>...</th>\n",
       "      <th>zone_AFRICA</th>\n",
       "      <th>zone_MISSING</th>\n",
       "      <th>user_number</th>\n",
       "      <th>user_connections</th>\n",
       "      <th>security_alert</th>\n",
       "      <th>oldbalanceDest</th>\n",
       "      <th>newbalanceDest</th>\n",
       "      <th>isFraud</th>\n",
       "      <th>Flagged_CC</th>\n",
       "      <th>Flagged_CM</th>\n",
       "    </tr>\n",
       "  </thead>\n",
       "  <tbody>\n",
       "    <tr>\n",
       "      <th>0</th>\n",
       "      <td>1</td>\n",
       "      <td>1</td>\n",
       "      <td>0</td>\n",
       "      <td>0</td>\n",
       "      <td>0</td>\n",
       "      <td>0</td>\n",
       "      <td>9839.64</td>\n",
       "      <td>1</td>\n",
       "      <td>0</td>\n",
       "      <td>0</td>\n",
       "      <td>...</td>\n",
       "      <td>0</td>\n",
       "      <td>0</td>\n",
       "      <td>138</td>\n",
       "      <td>5</td>\n",
       "      <td>1</td>\n",
       "      <td>0.00</td>\n",
       "      <td>0.00</td>\n",
       "      <td>0</td>\n",
       "      <td>0</td>\n",
       "      <td>1</td>\n",
       "    </tr>\n",
       "    <tr>\n",
       "      <th>1</th>\n",
       "      <td>1</td>\n",
       "      <td>1</td>\n",
       "      <td>0</td>\n",
       "      <td>0</td>\n",
       "      <td>0</td>\n",
       "      <td>0</td>\n",
       "      <td>1864.28</td>\n",
       "      <td>1</td>\n",
       "      <td>0</td>\n",
       "      <td>0</td>\n",
       "      <td>...</td>\n",
       "      <td>0</td>\n",
       "      <td>0</td>\n",
       "      <td>909</td>\n",
       "      <td>1</td>\n",
       "      <td>0</td>\n",
       "      <td>0.00</td>\n",
       "      <td>0.00</td>\n",
       "      <td>0</td>\n",
       "      <td>0</td>\n",
       "      <td>1</td>\n",
       "    </tr>\n",
       "    <tr>\n",
       "      <th>2</th>\n",
       "      <td>1</td>\n",
       "      <td>0</td>\n",
       "      <td>1</td>\n",
       "      <td>0</td>\n",
       "      <td>0</td>\n",
       "      <td>0</td>\n",
       "      <td>181.00</td>\n",
       "      <td>0</td>\n",
       "      <td>1</td>\n",
       "      <td>0</td>\n",
       "      <td>...</td>\n",
       "      <td>0</td>\n",
       "      <td>0</td>\n",
       "      <td>2569</td>\n",
       "      <td>10</td>\n",
       "      <td>0</td>\n",
       "      <td>0.00</td>\n",
       "      <td>0.00</td>\n",
       "      <td>1</td>\n",
       "      <td>1</td>\n",
       "      <td>0</td>\n",
       "    </tr>\n",
       "    <tr>\n",
       "      <th>3</th>\n",
       "      <td>1</td>\n",
       "      <td>0</td>\n",
       "      <td>0</td>\n",
       "      <td>1</td>\n",
       "      <td>0</td>\n",
       "      <td>0</td>\n",
       "      <td>181.00</td>\n",
       "      <td>1</td>\n",
       "      <td>0</td>\n",
       "      <td>0</td>\n",
       "      <td>...</td>\n",
       "      <td>0</td>\n",
       "      <td>0</td>\n",
       "      <td>1787</td>\n",
       "      <td>3</td>\n",
       "      <td>0</td>\n",
       "      <td>21182.00</td>\n",
       "      <td>0.00</td>\n",
       "      <td>1</td>\n",
       "      <td>1</td>\n",
       "      <td>0</td>\n",
       "    </tr>\n",
       "    <tr>\n",
       "      <th>4</th>\n",
       "      <td>1</td>\n",
       "      <td>1</td>\n",
       "      <td>0</td>\n",
       "      <td>0</td>\n",
       "      <td>0</td>\n",
       "      <td>0</td>\n",
       "      <td>11668.14</td>\n",
       "      <td>1</td>\n",
       "      <td>0</td>\n",
       "      <td>0</td>\n",
       "      <td>...</td>\n",
       "      <td>0</td>\n",
       "      <td>0</td>\n",
       "      <td>3997</td>\n",
       "      <td>8</td>\n",
       "      <td>0</td>\n",
       "      <td>0.00</td>\n",
       "      <td>0.00</td>\n",
       "      <td>0</td>\n",
       "      <td>0</td>\n",
       "      <td>1</td>\n",
       "    </tr>\n",
       "    <tr>\n",
       "      <th>...</th>\n",
       "      <td>...</td>\n",
       "      <td>...</td>\n",
       "      <td>...</td>\n",
       "      <td>...</td>\n",
       "      <td>...</td>\n",
       "      <td>...</td>\n",
       "      <td>...</td>\n",
       "      <td>...</td>\n",
       "      <td>...</td>\n",
       "      <td>...</td>\n",
       "      <td>...</td>\n",
       "      <td>...</td>\n",
       "      <td>...</td>\n",
       "      <td>...</td>\n",
       "      <td>...</td>\n",
       "      <td>...</td>\n",
       "      <td>...</td>\n",
       "      <td>...</td>\n",
       "      <td>...</td>\n",
       "      <td>...</td>\n",
       "      <td>...</td>\n",
       "    </tr>\n",
       "    <tr>\n",
       "      <th>1048570</th>\n",
       "      <td>95</td>\n",
       "      <td>0</td>\n",
       "      <td>0</td>\n",
       "      <td>1</td>\n",
       "      <td>0</td>\n",
       "      <td>0</td>\n",
       "      <td>132557.35</td>\n",
       "      <td>1</td>\n",
       "      <td>0</td>\n",
       "      <td>0</td>\n",
       "      <td>...</td>\n",
       "      <td>0</td>\n",
       "      <td>1</td>\n",
       "      <td>3179</td>\n",
       "      <td>9</td>\n",
       "      <td>0</td>\n",
       "      <td>484329.37</td>\n",
       "      <td>616886.72</td>\n",
       "      <td>0</td>\n",
       "      <td>1</td>\n",
       "      <td>0</td>\n",
       "    </tr>\n",
       "    <tr>\n",
       "      <th>1048571</th>\n",
       "      <td>95</td>\n",
       "      <td>1</td>\n",
       "      <td>0</td>\n",
       "      <td>0</td>\n",
       "      <td>0</td>\n",
       "      <td>0</td>\n",
       "      <td>9917.36</td>\n",
       "      <td>1</td>\n",
       "      <td>0</td>\n",
       "      <td>0</td>\n",
       "      <td>...</td>\n",
       "      <td>1</td>\n",
       "      <td>0</td>\n",
       "      <td>2558</td>\n",
       "      <td>9</td>\n",
       "      <td>0</td>\n",
       "      <td>0.00</td>\n",
       "      <td>0.00</td>\n",
       "      <td>0</td>\n",
       "      <td>0</td>\n",
       "      <td>1</td>\n",
       "    </tr>\n",
       "    <tr>\n",
       "      <th>1048572</th>\n",
       "      <td>95</td>\n",
       "      <td>1</td>\n",
       "      <td>0</td>\n",
       "      <td>0</td>\n",
       "      <td>0</td>\n",
       "      <td>0</td>\n",
       "      <td>14140.05</td>\n",
       "      <td>0</td>\n",
       "      <td>1</td>\n",
       "      <td>0</td>\n",
       "      <td>...</td>\n",
       "      <td>1</td>\n",
       "      <td>0</td>\n",
       "      <td>1553</td>\n",
       "      <td>2</td>\n",
       "      <td>0</td>\n",
       "      <td>0.00</td>\n",
       "      <td>0.00</td>\n",
       "      <td>0</td>\n",
       "      <td>0</td>\n",
       "      <td>1</td>\n",
       "    </tr>\n",
       "    <tr>\n",
       "      <th>1048573</th>\n",
       "      <td>95</td>\n",
       "      <td>1</td>\n",
       "      <td>0</td>\n",
       "      <td>0</td>\n",
       "      <td>0</td>\n",
       "      <td>0</td>\n",
       "      <td>10020.05</td>\n",
       "      <td>1</td>\n",
       "      <td>0</td>\n",
       "      <td>0</td>\n",
       "      <td>...</td>\n",
       "      <td>0</td>\n",
       "      <td>0</td>\n",
       "      <td>642</td>\n",
       "      <td>8</td>\n",
       "      <td>0</td>\n",
       "      <td>0.00</td>\n",
       "      <td>0.00</td>\n",
       "      <td>0</td>\n",
       "      <td>0</td>\n",
       "      <td>1</td>\n",
       "    </tr>\n",
       "    <tr>\n",
       "      <th>1048574</th>\n",
       "      <td>95</td>\n",
       "      <td>1</td>\n",
       "      <td>0</td>\n",
       "      <td>0</td>\n",
       "      <td>0</td>\n",
       "      <td>0</td>\n",
       "      <td>11450.03</td>\n",
       "      <td>0</td>\n",
       "      <td>1</td>\n",
       "      <td>0</td>\n",
       "      <td>...</td>\n",
       "      <td>0</td>\n",
       "      <td>0</td>\n",
       "      <td>2081</td>\n",
       "      <td>4</td>\n",
       "      <td>0</td>\n",
       "      <td>0.00</td>\n",
       "      <td>0.00</td>\n",
       "      <td>0</td>\n",
       "      <td>0</td>\n",
       "      <td>1</td>\n",
       "    </tr>\n",
       "  </tbody>\n",
       "</table>\n",
       "<p>1048575 rows × 27 columns</p>\n",
       "</div>"
      ],
      "text/plain": [
       "         step  type_PAYMENT  type_TRANSFER  type_CASHOUT  type_DEBIT  \\\n",
       "0           1             1              0             0           0   \n",
       "1           1             1              0             0           0   \n",
       "2           1             0              1             0           0   \n",
       "3           1             0              0             1           0   \n",
       "4           1             1              0             0           0   \n",
       "...       ...           ...            ...           ...         ...   \n",
       "1048570    95             0              0             1           0   \n",
       "1048571    95             1              0             0           0   \n",
       "1048572    95             1              0             0           0   \n",
       "1048573    95             1              0             0           0   \n",
       "1048574    95             1              0             0           0   \n",
       "\n",
       "         type_CASHIN     amount  device_MAC  device_PC  device_IPHONE  ...  \\\n",
       "0                  0    9839.64           1          0              0  ...   \n",
       "1                  0    1864.28           1          0              0  ...   \n",
       "2                  0     181.00           0          1              0  ...   \n",
       "3                  0     181.00           1          0              0  ...   \n",
       "4                  0   11668.14           1          0              0  ...   \n",
       "...              ...        ...         ...        ...            ...  ...   \n",
       "1048570            0  132557.35           1          0              0  ...   \n",
       "1048571            0    9917.36           1          0              0  ...   \n",
       "1048572            0   14140.05           0          1              0  ...   \n",
       "1048573            0   10020.05           1          0              0  ...   \n",
       "1048574            0   11450.03           0          1              0  ...   \n",
       "\n",
       "         zone_AFRICA  zone_MISSING  user_number   user_connections  \\\n",
       "0                  0             0           138                 5   \n",
       "1                  0             0           909                 1   \n",
       "2                  0             0          2569                10   \n",
       "3                  0             0          1787                 3   \n",
       "4                  0             0          3997                 8   \n",
       "...              ...           ...           ...               ...   \n",
       "1048570            0             1          3179                 9   \n",
       "1048571            1             0          2558                 9   \n",
       "1048572            1             0          1553                 2   \n",
       "1048573            0             0           642                 8   \n",
       "1048574            0             0          2081                 4   \n",
       "\n",
       "         security_alert  oldbalanceDest  newbalanceDest  isFraud  Flagged_CC  \\\n",
       "0                     1            0.00            0.00        0           0   \n",
       "1                     0            0.00            0.00        0           0   \n",
       "2                     0            0.00            0.00        1           1   \n",
       "3                     0        21182.00            0.00        1           1   \n",
       "4                     0            0.00            0.00        0           0   \n",
       "...                 ...             ...             ...      ...         ...   \n",
       "1048570               0       484329.37       616886.72        0           1   \n",
       "1048571               0            0.00            0.00        0           0   \n",
       "1048572               0            0.00            0.00        0           0   \n",
       "1048573               0            0.00            0.00        0           0   \n",
       "1048574               0            0.00            0.00        0           0   \n",
       "\n",
       "         Flagged_CM  \n",
       "0                 1  \n",
       "1                 1  \n",
       "2                 0  \n",
       "3                 0  \n",
       "4                 1  \n",
       "...             ...  \n",
       "1048570           0  \n",
       "1048571           1  \n",
       "1048572           1  \n",
       "1048573           1  \n",
       "1048574           1  \n",
       "\n",
       "[1048575 rows x 27 columns]"
      ]
     },
     "execution_count": 5,
     "metadata": {},
     "output_type": "execute_result"
    }
   ],
   "source": [
    "fraud_df_op1 = pd.read_csv(csv_path_op1, sep = ',')\n",
    "fraud_df_op1 = fraud_df_op1.drop(fraud_df_op1.columns[[0]], axis=1)\n",
    "fraud_df_op1"
   ]
  },
  {
   "cell_type": "code",
   "execution_count": 6,
   "id": "5b7eeffe",
   "metadata": {},
   "outputs": [
    {
     "data": {
      "text/html": [
       "<div>\n",
       "<style scoped>\n",
       "    .dataframe tbody tr th:only-of-type {\n",
       "        vertical-align: middle;\n",
       "    }\n",
       "\n",
       "    .dataframe tbody tr th {\n",
       "        vertical-align: top;\n",
       "    }\n",
       "\n",
       "    .dataframe thead th {\n",
       "        text-align: right;\n",
       "    }\n",
       "</style>\n",
       "<table border=\"1\" class=\"dataframe\">\n",
       "  <thead>\n",
       "    <tr style=\"text-align: right;\">\n",
       "      <th></th>\n",
       "      <th>step</th>\n",
       "      <th>type_PAYMENT</th>\n",
       "      <th>type_TRANSFER</th>\n",
       "      <th>type_CASHOUT</th>\n",
       "      <th>type_DEBIT</th>\n",
       "      <th>type_CASHIN</th>\n",
       "      <th>amount</th>\n",
       "      <th>device_MAC</th>\n",
       "      <th>device_PC</th>\n",
       "      <th>device_IPHONE</th>\n",
       "      <th>...</th>\n",
       "      <th>zone_MISSING</th>\n",
       "      <th>user_number</th>\n",
       "      <th>user_connections</th>\n",
       "      <th>security_alert</th>\n",
       "      <th>oldbalanceDest</th>\n",
       "      <th>newbalanceDest</th>\n",
       "      <th>isFraud</th>\n",
       "      <th>Flagged_CC</th>\n",
       "      <th>Flagged_CM</th>\n",
       "      <th>Follows_FraudPattern</th>\n",
       "    </tr>\n",
       "  </thead>\n",
       "  <tbody>\n",
       "    <tr>\n",
       "      <th>0</th>\n",
       "      <td>1</td>\n",
       "      <td>1</td>\n",
       "      <td>0</td>\n",
       "      <td>0</td>\n",
       "      <td>0</td>\n",
       "      <td>0</td>\n",
       "      <td>9839.64</td>\n",
       "      <td>1</td>\n",
       "      <td>0</td>\n",
       "      <td>0</td>\n",
       "      <td>...</td>\n",
       "      <td>0</td>\n",
       "      <td>138</td>\n",
       "      <td>5</td>\n",
       "      <td>1</td>\n",
       "      <td>0.00</td>\n",
       "      <td>0.00</td>\n",
       "      <td>0</td>\n",
       "      <td>0</td>\n",
       "      <td>1</td>\n",
       "      <td>0</td>\n",
       "    </tr>\n",
       "    <tr>\n",
       "      <th>1</th>\n",
       "      <td>1</td>\n",
       "      <td>1</td>\n",
       "      <td>0</td>\n",
       "      <td>0</td>\n",
       "      <td>0</td>\n",
       "      <td>0</td>\n",
       "      <td>1864.28</td>\n",
       "      <td>1</td>\n",
       "      <td>0</td>\n",
       "      <td>0</td>\n",
       "      <td>...</td>\n",
       "      <td>0</td>\n",
       "      <td>909</td>\n",
       "      <td>1</td>\n",
       "      <td>0</td>\n",
       "      <td>0.00</td>\n",
       "      <td>0.00</td>\n",
       "      <td>0</td>\n",
       "      <td>0</td>\n",
       "      <td>1</td>\n",
       "      <td>0</td>\n",
       "    </tr>\n",
       "    <tr>\n",
       "      <th>2</th>\n",
       "      <td>1</td>\n",
       "      <td>0</td>\n",
       "      <td>1</td>\n",
       "      <td>0</td>\n",
       "      <td>0</td>\n",
       "      <td>0</td>\n",
       "      <td>181.00</td>\n",
       "      <td>0</td>\n",
       "      <td>1</td>\n",
       "      <td>0</td>\n",
       "      <td>...</td>\n",
       "      <td>0</td>\n",
       "      <td>2569</td>\n",
       "      <td>10</td>\n",
       "      <td>0</td>\n",
       "      <td>0.00</td>\n",
       "      <td>0.00</td>\n",
       "      <td>1</td>\n",
       "      <td>1</td>\n",
       "      <td>0</td>\n",
       "      <td>1</td>\n",
       "    </tr>\n",
       "    <tr>\n",
       "      <th>3</th>\n",
       "      <td>1</td>\n",
       "      <td>0</td>\n",
       "      <td>0</td>\n",
       "      <td>1</td>\n",
       "      <td>0</td>\n",
       "      <td>0</td>\n",
       "      <td>181.00</td>\n",
       "      <td>1</td>\n",
       "      <td>0</td>\n",
       "      <td>0</td>\n",
       "      <td>...</td>\n",
       "      <td>0</td>\n",
       "      <td>1787</td>\n",
       "      <td>3</td>\n",
       "      <td>0</td>\n",
       "      <td>21182.00</td>\n",
       "      <td>0.00</td>\n",
       "      <td>1</td>\n",
       "      <td>1</td>\n",
       "      <td>0</td>\n",
       "      <td>1</td>\n",
       "    </tr>\n",
       "    <tr>\n",
       "      <th>4</th>\n",
       "      <td>1</td>\n",
       "      <td>1</td>\n",
       "      <td>0</td>\n",
       "      <td>0</td>\n",
       "      <td>0</td>\n",
       "      <td>0</td>\n",
       "      <td>11668.14</td>\n",
       "      <td>1</td>\n",
       "      <td>0</td>\n",
       "      <td>0</td>\n",
       "      <td>...</td>\n",
       "      <td>0</td>\n",
       "      <td>3997</td>\n",
       "      <td>8</td>\n",
       "      <td>0</td>\n",
       "      <td>0.00</td>\n",
       "      <td>0.00</td>\n",
       "      <td>0</td>\n",
       "      <td>0</td>\n",
       "      <td>1</td>\n",
       "      <td>0</td>\n",
       "    </tr>\n",
       "    <tr>\n",
       "      <th>...</th>\n",
       "      <td>...</td>\n",
       "      <td>...</td>\n",
       "      <td>...</td>\n",
       "      <td>...</td>\n",
       "      <td>...</td>\n",
       "      <td>...</td>\n",
       "      <td>...</td>\n",
       "      <td>...</td>\n",
       "      <td>...</td>\n",
       "      <td>...</td>\n",
       "      <td>...</td>\n",
       "      <td>...</td>\n",
       "      <td>...</td>\n",
       "      <td>...</td>\n",
       "      <td>...</td>\n",
       "      <td>...</td>\n",
       "      <td>...</td>\n",
       "      <td>...</td>\n",
       "      <td>...</td>\n",
       "      <td>...</td>\n",
       "      <td>...</td>\n",
       "    </tr>\n",
       "    <tr>\n",
       "      <th>1048570</th>\n",
       "      <td>95</td>\n",
       "      <td>0</td>\n",
       "      <td>0</td>\n",
       "      <td>1</td>\n",
       "      <td>0</td>\n",
       "      <td>0</td>\n",
       "      <td>132557.35</td>\n",
       "      <td>1</td>\n",
       "      <td>0</td>\n",
       "      <td>0</td>\n",
       "      <td>...</td>\n",
       "      <td>1</td>\n",
       "      <td>3179</td>\n",
       "      <td>9</td>\n",
       "      <td>0</td>\n",
       "      <td>484329.37</td>\n",
       "      <td>616886.72</td>\n",
       "      <td>0</td>\n",
       "      <td>1</td>\n",
       "      <td>0</td>\n",
       "      <td>0</td>\n",
       "    </tr>\n",
       "    <tr>\n",
       "      <th>1048571</th>\n",
       "      <td>95</td>\n",
       "      <td>1</td>\n",
       "      <td>0</td>\n",
       "      <td>0</td>\n",
       "      <td>0</td>\n",
       "      <td>0</td>\n",
       "      <td>9917.36</td>\n",
       "      <td>1</td>\n",
       "      <td>0</td>\n",
       "      <td>0</td>\n",
       "      <td>...</td>\n",
       "      <td>0</td>\n",
       "      <td>2558</td>\n",
       "      <td>9</td>\n",
       "      <td>0</td>\n",
       "      <td>0.00</td>\n",
       "      <td>0.00</td>\n",
       "      <td>0</td>\n",
       "      <td>0</td>\n",
       "      <td>1</td>\n",
       "      <td>0</td>\n",
       "    </tr>\n",
       "    <tr>\n",
       "      <th>1048572</th>\n",
       "      <td>95</td>\n",
       "      <td>1</td>\n",
       "      <td>0</td>\n",
       "      <td>0</td>\n",
       "      <td>0</td>\n",
       "      <td>0</td>\n",
       "      <td>14140.05</td>\n",
       "      <td>0</td>\n",
       "      <td>1</td>\n",
       "      <td>0</td>\n",
       "      <td>...</td>\n",
       "      <td>0</td>\n",
       "      <td>1553</td>\n",
       "      <td>2</td>\n",
       "      <td>0</td>\n",
       "      <td>0.00</td>\n",
       "      <td>0.00</td>\n",
       "      <td>0</td>\n",
       "      <td>0</td>\n",
       "      <td>1</td>\n",
       "      <td>0</td>\n",
       "    </tr>\n",
       "    <tr>\n",
       "      <th>1048573</th>\n",
       "      <td>95</td>\n",
       "      <td>1</td>\n",
       "      <td>0</td>\n",
       "      <td>0</td>\n",
       "      <td>0</td>\n",
       "      <td>0</td>\n",
       "      <td>10020.05</td>\n",
       "      <td>1</td>\n",
       "      <td>0</td>\n",
       "      <td>0</td>\n",
       "      <td>...</td>\n",
       "      <td>0</td>\n",
       "      <td>642</td>\n",
       "      <td>8</td>\n",
       "      <td>0</td>\n",
       "      <td>0.00</td>\n",
       "      <td>0.00</td>\n",
       "      <td>0</td>\n",
       "      <td>0</td>\n",
       "      <td>1</td>\n",
       "      <td>0</td>\n",
       "    </tr>\n",
       "    <tr>\n",
       "      <th>1048574</th>\n",
       "      <td>95</td>\n",
       "      <td>1</td>\n",
       "      <td>0</td>\n",
       "      <td>0</td>\n",
       "      <td>0</td>\n",
       "      <td>0</td>\n",
       "      <td>11450.03</td>\n",
       "      <td>0</td>\n",
       "      <td>1</td>\n",
       "      <td>0</td>\n",
       "      <td>...</td>\n",
       "      <td>0</td>\n",
       "      <td>2081</td>\n",
       "      <td>4</td>\n",
       "      <td>0</td>\n",
       "      <td>0.00</td>\n",
       "      <td>0.00</td>\n",
       "      <td>0</td>\n",
       "      <td>0</td>\n",
       "      <td>1</td>\n",
       "      <td>0</td>\n",
       "    </tr>\n",
       "  </tbody>\n",
       "</table>\n",
       "<p>1048575 rows × 28 columns</p>\n",
       "</div>"
      ],
      "text/plain": [
       "         step  type_PAYMENT  type_TRANSFER  type_CASHOUT  type_DEBIT  \\\n",
       "0           1             1              0             0           0   \n",
       "1           1             1              0             0           0   \n",
       "2           1             0              1             0           0   \n",
       "3           1             0              0             1           0   \n",
       "4           1             1              0             0           0   \n",
       "...       ...           ...            ...           ...         ...   \n",
       "1048570    95             0              0             1           0   \n",
       "1048571    95             1              0             0           0   \n",
       "1048572    95             1              0             0           0   \n",
       "1048573    95             1              0             0           0   \n",
       "1048574    95             1              0             0           0   \n",
       "\n",
       "         type_CASHIN     amount  device_MAC  device_PC  device_IPHONE  ...  \\\n",
       "0                  0    9839.64           1          0              0  ...   \n",
       "1                  0    1864.28           1          0              0  ...   \n",
       "2                  0     181.00           0          1              0  ...   \n",
       "3                  0     181.00           1          0              0  ...   \n",
       "4                  0   11668.14           1          0              0  ...   \n",
       "...              ...        ...         ...        ...            ...  ...   \n",
       "1048570            0  132557.35           1          0              0  ...   \n",
       "1048571            0    9917.36           1          0              0  ...   \n",
       "1048572            0   14140.05           0          1              0  ...   \n",
       "1048573            0   10020.05           1          0              0  ...   \n",
       "1048574            0   11450.03           0          1              0  ...   \n",
       "\n",
       "         zone_MISSING  user_number   user_connections  security_alert  \\\n",
       "0                   0           138                 5               1   \n",
       "1                   0           909                 1               0   \n",
       "2                   0          2569                10               0   \n",
       "3                   0          1787                 3               0   \n",
       "4                   0          3997                 8               0   \n",
       "...               ...           ...               ...             ...   \n",
       "1048570             1          3179                 9               0   \n",
       "1048571             0          2558                 9               0   \n",
       "1048572             0          1553                 2               0   \n",
       "1048573             0           642                 8               0   \n",
       "1048574             0          2081                 4               0   \n",
       "\n",
       "         oldbalanceDest  newbalanceDest  isFraud  Flagged_CC  Flagged_CM  \\\n",
       "0                  0.00            0.00        0           0           1   \n",
       "1                  0.00            0.00        0           0           1   \n",
       "2                  0.00            0.00        1           1           0   \n",
       "3              21182.00            0.00        1           1           0   \n",
       "4                  0.00            0.00        0           0           1   \n",
       "...                 ...             ...      ...         ...         ...   \n",
       "1048570       484329.37       616886.72        0           1           0   \n",
       "1048571            0.00            0.00        0           0           1   \n",
       "1048572            0.00            0.00        0           0           1   \n",
       "1048573            0.00            0.00        0           0           1   \n",
       "1048574            0.00            0.00        0           0           1   \n",
       "\n",
       "         Follows_FraudPattern  \n",
       "0                           0  \n",
       "1                           0  \n",
       "2                           1  \n",
       "3                           1  \n",
       "4                           0  \n",
       "...                       ...  \n",
       "1048570                     0  \n",
       "1048571                     0  \n",
       "1048572                     0  \n",
       "1048573                     0  \n",
       "1048574                     0  \n",
       "\n",
       "[1048575 rows x 28 columns]"
      ]
     },
     "execution_count": 6,
     "metadata": {},
     "output_type": "execute_result"
    }
   ],
   "source": [
    "fraud_df_op2 = pd.read_csv(csv_path_op2, sep = ',')\n",
    "fraud_df_op2 = fraud_df_op2.drop(fraud_df_op2.columns[[0]], axis=1)\n",
    "fraud_df_op2"
   ]
  },
  {
   "cell_type": "markdown",
   "id": "71f4f8f4",
   "metadata": {},
   "source": [
    "## OPTION 1 - MODELS"
   ]
  },
  {
   "cell_type": "markdown",
   "id": "4de9adb1",
   "metadata": {},
   "source": [
    "Since the data set we are working with is very unbalanced with respect to the target variable, I think it is important to have balanced data that will allow us to generate models with greater precision and a higher detection rate.\n",
    "\n",
    "Since our data set is huge, we perform subsampling to avoid heavy computational issues."
   ]
  },
  {
   "cell_type": "code",
   "execution_count": 6,
   "id": "51fa67a7",
   "metadata": {},
   "outputs": [],
   "source": [
    "sampler = RandomUnderSampler(sampling_strategy = sampling_strategy, random_state = seed)"
   ]
  },
  {
   "cell_type": "markdown",
   "id": "9548a61a",
   "metadata": {},
   "source": [
    "#### We separate between train and test with a ratio of 75-25"
   ]
  },
  {
   "cell_type": "code",
   "execution_count": 14,
   "id": "ca80799c",
   "metadata": {},
   "outputs": [],
   "source": [
    "x = fraud_df_op1.drop('isFraud', axis = 1)\n",
    "y = fraud_df_op1.isFraud"
   ]
  },
  {
   "cell_type": "code",
   "execution_count": 8,
   "id": "38b8f40e",
   "metadata": {},
   "outputs": [],
   "source": [
    "resampled_x, resampled_y = sampler.fit_resample(x, y)"
   ]
  },
  {
   "cell_type": "code",
   "execution_count": 9,
   "id": "c6f6f16f",
   "metadata": {},
   "outputs": [
    {
     "data": {
      "text/html": [
       "<div>\n",
       "<style scoped>\n",
       "    .dataframe tbody tr th:only-of-type {\n",
       "        vertical-align: middle;\n",
       "    }\n",
       "\n",
       "    .dataframe tbody tr th {\n",
       "        vertical-align: top;\n",
       "    }\n",
       "\n",
       "    .dataframe thead th {\n",
       "        text-align: right;\n",
       "    }\n",
       "</style>\n",
       "<table border=\"1\" class=\"dataframe\">\n",
       "  <thead>\n",
       "    <tr style=\"text-align: right;\">\n",
       "      <th></th>\n",
       "      <th>step</th>\n",
       "      <th>type_PAYMENT</th>\n",
       "      <th>type_TRANSFER</th>\n",
       "      <th>type_CASHOUT</th>\n",
       "      <th>type_DEBIT</th>\n",
       "      <th>type_CASHIN</th>\n",
       "      <th>amount</th>\n",
       "      <th>device_MAC</th>\n",
       "      <th>device_PC</th>\n",
       "      <th>device_IPHONE</th>\n",
       "      <th>...</th>\n",
       "      <th>zone_COUNTRY</th>\n",
       "      <th>zone_AFRICA</th>\n",
       "      <th>zone_MISSING</th>\n",
       "      <th>user_number</th>\n",
       "      <th>user_connections</th>\n",
       "      <th>security_alert</th>\n",
       "      <th>oldbalanceDest</th>\n",
       "      <th>newbalanceDest</th>\n",
       "      <th>Flagged_CC</th>\n",
       "      <th>Flagged_CM</th>\n",
       "    </tr>\n",
       "  </thead>\n",
       "  <tbody>\n",
       "    <tr>\n",
       "      <th>0</th>\n",
       "      <td>41</td>\n",
       "      <td>1</td>\n",
       "      <td>0</td>\n",
       "      <td>0</td>\n",
       "      <td>0</td>\n",
       "      <td>0</td>\n",
       "      <td>11483.32</td>\n",
       "      <td>0</td>\n",
       "      <td>0</td>\n",
       "      <td>1</td>\n",
       "      <td>...</td>\n",
       "      <td>0</td>\n",
       "      <td>0</td>\n",
       "      <td>0</td>\n",
       "      <td>1902</td>\n",
       "      <td>7</td>\n",
       "      <td>0</td>\n",
       "      <td>0.00</td>\n",
       "      <td>0.00</td>\n",
       "      <td>0</td>\n",
       "      <td>1</td>\n",
       "    </tr>\n",
       "    <tr>\n",
       "      <th>1</th>\n",
       "      <td>15</td>\n",
       "      <td>1</td>\n",
       "      <td>0</td>\n",
       "      <td>0</td>\n",
       "      <td>0</td>\n",
       "      <td>0</td>\n",
       "      <td>3334.64</td>\n",
       "      <td>0</td>\n",
       "      <td>0</td>\n",
       "      <td>1</td>\n",
       "      <td>...</td>\n",
       "      <td>0</td>\n",
       "      <td>1</td>\n",
       "      <td>0</td>\n",
       "      <td>1775</td>\n",
       "      <td>4</td>\n",
       "      <td>1</td>\n",
       "      <td>0.00</td>\n",
       "      <td>0.00</td>\n",
       "      <td>0</td>\n",
       "      <td>1</td>\n",
       "    </tr>\n",
       "    <tr>\n",
       "      <th>2</th>\n",
       "      <td>21</td>\n",
       "      <td>0</td>\n",
       "      <td>0</td>\n",
       "      <td>0</td>\n",
       "      <td>0</td>\n",
       "      <td>1</td>\n",
       "      <td>34592.98</td>\n",
       "      <td>0</td>\n",
       "      <td>1</td>\n",
       "      <td>0</td>\n",
       "      <td>...</td>\n",
       "      <td>1</td>\n",
       "      <td>0</td>\n",
       "      <td>0</td>\n",
       "      <td>4405</td>\n",
       "      <td>3</td>\n",
       "      <td>0</td>\n",
       "      <td>273913.55</td>\n",
       "      <td>239320.57</td>\n",
       "      <td>1</td>\n",
       "      <td>0</td>\n",
       "    </tr>\n",
       "    <tr>\n",
       "      <th>3</th>\n",
       "      <td>24</td>\n",
       "      <td>1</td>\n",
       "      <td>0</td>\n",
       "      <td>0</td>\n",
       "      <td>0</td>\n",
       "      <td>0</td>\n",
       "      <td>36152.49</td>\n",
       "      <td>0</td>\n",
       "      <td>0</td>\n",
       "      <td>0</td>\n",
       "      <td>...</td>\n",
       "      <td>0</td>\n",
       "      <td>0</td>\n",
       "      <td>1</td>\n",
       "      <td>1925</td>\n",
       "      <td>1</td>\n",
       "      <td>0</td>\n",
       "      <td>0.00</td>\n",
       "      <td>0.00</td>\n",
       "      <td>0</td>\n",
       "      <td>1</td>\n",
       "    </tr>\n",
       "    <tr>\n",
       "      <th>4</th>\n",
       "      <td>12</td>\n",
       "      <td>0</td>\n",
       "      <td>0</td>\n",
       "      <td>1</td>\n",
       "      <td>0</td>\n",
       "      <td>0</td>\n",
       "      <td>398855.68</td>\n",
       "      <td>1</td>\n",
       "      <td>0</td>\n",
       "      <td>0</td>\n",
       "      <td>...</td>\n",
       "      <td>1</td>\n",
       "      <td>0</td>\n",
       "      <td>0</td>\n",
       "      <td>1458</td>\n",
       "      <td>2</td>\n",
       "      <td>0</td>\n",
       "      <td>1786521.84</td>\n",
       "      <td>2185377.52</td>\n",
       "      <td>1</td>\n",
       "      <td>0</td>\n",
       "    </tr>\n",
       "    <tr>\n",
       "      <th>...</th>\n",
       "      <td>...</td>\n",
       "      <td>...</td>\n",
       "      <td>...</td>\n",
       "      <td>...</td>\n",
       "      <td>...</td>\n",
       "      <td>...</td>\n",
       "      <td>...</td>\n",
       "      <td>...</td>\n",
       "      <td>...</td>\n",
       "      <td>...</td>\n",
       "      <td>...</td>\n",
       "      <td>...</td>\n",
       "      <td>...</td>\n",
       "      <td>...</td>\n",
       "      <td>...</td>\n",
       "      <td>...</td>\n",
       "      <td>...</td>\n",
       "      <td>...</td>\n",
       "      <td>...</td>\n",
       "      <td>...</td>\n",
       "      <td>...</td>\n",
       "    </tr>\n",
       "    <tr>\n",
       "      <th>2279</th>\n",
       "      <td>95</td>\n",
       "      <td>0</td>\n",
       "      <td>0</td>\n",
       "      <td>1</td>\n",
       "      <td>0</td>\n",
       "      <td>0</td>\n",
       "      <td>56745.14</td>\n",
       "      <td>0</td>\n",
       "      <td>0</td>\n",
       "      <td>1</td>\n",
       "      <td>...</td>\n",
       "      <td>0</td>\n",
       "      <td>0</td>\n",
       "      <td>0</td>\n",
       "      <td>800</td>\n",
       "      <td>5</td>\n",
       "      <td>1</td>\n",
       "      <td>51433.88</td>\n",
       "      <td>108179.02</td>\n",
       "      <td>1</td>\n",
       "      <td>0</td>\n",
       "    </tr>\n",
       "    <tr>\n",
       "      <th>2280</th>\n",
       "      <td>95</td>\n",
       "      <td>0</td>\n",
       "      <td>1</td>\n",
       "      <td>0</td>\n",
       "      <td>0</td>\n",
       "      <td>0</td>\n",
       "      <td>33676.59</td>\n",
       "      <td>1</td>\n",
       "      <td>0</td>\n",
       "      <td>0</td>\n",
       "      <td>...</td>\n",
       "      <td>0</td>\n",
       "      <td>1</td>\n",
       "      <td>0</td>\n",
       "      <td>4804</td>\n",
       "      <td>4</td>\n",
       "      <td>0</td>\n",
       "      <td>0.00</td>\n",
       "      <td>0.00</td>\n",
       "      <td>1</td>\n",
       "      <td>0</td>\n",
       "    </tr>\n",
       "    <tr>\n",
       "      <th>2281</th>\n",
       "      <td>95</td>\n",
       "      <td>0</td>\n",
       "      <td>0</td>\n",
       "      <td>1</td>\n",
       "      <td>0</td>\n",
       "      <td>0</td>\n",
       "      <td>33676.59</td>\n",
       "      <td>1</td>\n",
       "      <td>0</td>\n",
       "      <td>0</td>\n",
       "      <td>...</td>\n",
       "      <td>1</td>\n",
       "      <td>0</td>\n",
       "      <td>0</td>\n",
       "      <td>1807</td>\n",
       "      <td>7</td>\n",
       "      <td>0</td>\n",
       "      <td>0.00</td>\n",
       "      <td>33676.59</td>\n",
       "      <td>1</td>\n",
       "      <td>0</td>\n",
       "    </tr>\n",
       "    <tr>\n",
       "      <th>2282</th>\n",
       "      <td>95</td>\n",
       "      <td>0</td>\n",
       "      <td>1</td>\n",
       "      <td>0</td>\n",
       "      <td>0</td>\n",
       "      <td>0</td>\n",
       "      <td>87999.25</td>\n",
       "      <td>0</td>\n",
       "      <td>0</td>\n",
       "      <td>0</td>\n",
       "      <td>...</td>\n",
       "      <td>0</td>\n",
       "      <td>0</td>\n",
       "      <td>1</td>\n",
       "      <td>3891</td>\n",
       "      <td>8</td>\n",
       "      <td>0</td>\n",
       "      <td>0.00</td>\n",
       "      <td>0.00</td>\n",
       "      <td>1</td>\n",
       "      <td>0</td>\n",
       "    </tr>\n",
       "    <tr>\n",
       "      <th>2283</th>\n",
       "      <td>95</td>\n",
       "      <td>0</td>\n",
       "      <td>0</td>\n",
       "      <td>1</td>\n",
       "      <td>0</td>\n",
       "      <td>0</td>\n",
       "      <td>87999.25</td>\n",
       "      <td>0</td>\n",
       "      <td>1</td>\n",
       "      <td>0</td>\n",
       "      <td>...</td>\n",
       "      <td>0</td>\n",
       "      <td>1</td>\n",
       "      <td>0</td>\n",
       "      <td>4439</td>\n",
       "      <td>5</td>\n",
       "      <td>0</td>\n",
       "      <td>0.00</td>\n",
       "      <td>87999.25</td>\n",
       "      <td>1</td>\n",
       "      <td>0</td>\n",
       "    </tr>\n",
       "  </tbody>\n",
       "</table>\n",
       "<p>2284 rows × 26 columns</p>\n",
       "</div>"
      ],
      "text/plain": [
       "      step  type_PAYMENT  type_TRANSFER  type_CASHOUT  type_DEBIT  \\\n",
       "0       41             1              0             0           0   \n",
       "1       15             1              0             0           0   \n",
       "2       21             0              0             0           0   \n",
       "3       24             1              0             0           0   \n",
       "4       12             0              0             1           0   \n",
       "...    ...           ...            ...           ...         ...   \n",
       "2279    95             0              0             1           0   \n",
       "2280    95             0              1             0           0   \n",
       "2281    95             0              0             1           0   \n",
       "2282    95             0              1             0           0   \n",
       "2283    95             0              0             1           0   \n",
       "\n",
       "      type_CASHIN     amount  device_MAC  device_PC  device_IPHONE  ...  \\\n",
       "0               0   11483.32           0          0              1  ...   \n",
       "1               0    3334.64           0          0              1  ...   \n",
       "2               1   34592.98           0          1              0  ...   \n",
       "3               0   36152.49           0          0              0  ...   \n",
       "4               0  398855.68           1          0              0  ...   \n",
       "...           ...        ...         ...        ...            ...  ...   \n",
       "2279            0   56745.14           0          0              1  ...   \n",
       "2280            0   33676.59           1          0              0  ...   \n",
       "2281            0   33676.59           1          0              0  ...   \n",
       "2282            0   87999.25           0          0              0  ...   \n",
       "2283            0   87999.25           0          1              0  ...   \n",
       "\n",
       "      zone_COUNTRY  zone_AFRICA  zone_MISSING  user_number   user_connections  \\\n",
       "0                0            0             0          1902                 7   \n",
       "1                0            1             0          1775                 4   \n",
       "2                1            0             0          4405                 3   \n",
       "3                0            0             1          1925                 1   \n",
       "4                1            0             0          1458                 2   \n",
       "...            ...          ...           ...           ...               ...   \n",
       "2279             0            0             0           800                 5   \n",
       "2280             0            1             0          4804                 4   \n",
       "2281             1            0             0          1807                 7   \n",
       "2282             0            0             1          3891                 8   \n",
       "2283             0            1             0          4439                 5   \n",
       "\n",
       "      security_alert  oldbalanceDest  newbalanceDest  Flagged_CC  Flagged_CM  \n",
       "0                  0            0.00            0.00           0           1  \n",
       "1                  1            0.00            0.00           0           1  \n",
       "2                  0       273913.55       239320.57           1           0  \n",
       "3                  0            0.00            0.00           0           1  \n",
       "4                  0      1786521.84      2185377.52           1           0  \n",
       "...              ...             ...             ...         ...         ...  \n",
       "2279               1        51433.88       108179.02           1           0  \n",
       "2280               0            0.00            0.00           1           0  \n",
       "2281               0            0.00        33676.59           1           0  \n",
       "2282               0            0.00            0.00           1           0  \n",
       "2283               0            0.00        87999.25           1           0  \n",
       "\n",
       "[2284 rows x 26 columns]"
      ]
     },
     "execution_count": 9,
     "metadata": {},
     "output_type": "execute_result"
    }
   ],
   "source": [
    "resampled_x"
   ]
  },
  {
   "cell_type": "code",
   "execution_count": 10,
   "id": "0f13c603",
   "metadata": {},
   "outputs": [],
   "source": [
    "X_train, X_test, Y_train, Y_test = train_test_split(resampled_x, resampled_y, test_size=test_size, random_state=seed)"
   ]
  },
  {
   "cell_type": "markdown",
   "id": "ff82ca7e",
   "metadata": {},
   "source": [
    "#### We test different models to see their score and choose"
   ]
  },
  {
   "cell_type": "code",
   "execution_count": 11,
   "id": "19a66d39",
   "metadata": {
    "scrolled": false
   },
   "outputs": [
    {
     "name": "stdout",
     "output_type": "stream",
     "text": [
      "AdaBoostClassifier()\n",
      "model score: 0.937\n",
      "Accuracy: 0.9369527145359019\n",
      "GradientBoostingClassifier()\n",
      "model score: 0.958\n",
      "Accuracy: 0.957968476357268\n",
      "KNeighborsClassifier()\n",
      "model score: 0.893\n",
      "Accuracy: 0.8931698774080561\n",
      "XGBClassifier(base_score=0.5, booster='gbtree', callbacks=None,\n",
      "              colsample_bylevel=1, colsample_bynode=1, colsample_bytree=1,\n",
      "              early_stopping_rounds=None, enable_categorical=False,\n",
      "              eval_metric=None, feature_types=None, gamma=0, gpu_id=-1,\n",
      "              grow_policy='depthwise', importance_type=None,\n",
      "              interaction_constraints='', learning_rate=0.300000012,\n",
      "              max_bin=256, max_cat_threshold=64, max_cat_to_onehot=4,\n",
      "              max_delta_step=0, max_depth=6, max_leaves=0, min_child_weight=1,\n",
      "              missing=nan, monotone_constraints='()', n_estimators=100,\n",
      "              n_jobs=0, num_parallel_tree=1, predictor='auto', random_state=0, ...)\n",
      "model score: 0.975\n",
      "Accuracy: 0.9754816112084063\n",
      "LGBMClassifier()\n",
      "model score: 0.982\n",
      "Accuracy: 0.9824868651488616\n",
      "LogisticRegression()\n",
      "model score: 0.900\n",
      "Accuracy: 0.9001751313485113\n",
      "SGDClassifier()\n",
      "model score: 0.890\n",
      "Accuracy: 0.8896672504378283\n",
      "RandomForestClassifier()\n",
      "model score: 0.958\n",
      "Accuracy: 0.957968476357268\n"
     ]
    }
   ],
   "source": [
    "classifiers = [\n",
    "    AdaBoostClassifier(),\n",
    "    GradientBoostingClassifier(),\n",
    "    KNeighborsClassifier(),\n",
    "    xgb.XGBClassifier(),\n",
    "    lgb.LGBMClassifier(),\n",
    "    LogisticRegression(),\n",
    "    SGDClassifier(),\n",
    "    RandomForestClassifier()\n",
    "    ]\n",
    "\n",
    "get_models_score(classifiers, X_train, Y_train)\n",
    "    "
   ]
  },
  {
   "cell_type": "markdown",
   "id": "b2f7af1b",
   "metadata": {},
   "source": [
    "We get very good metrics on almost all models. A priori we would choose the LGBM as the model of preference."
   ]
  },
  {
   "cell_type": "markdown",
   "id": "098a7cbc",
   "metadata": {},
   "source": [
    "#### SVM"
   ]
  },
  {
   "cell_type": "markdown",
   "id": "0bbb947a",
   "metadata": {},
   "source": [
    "I separate the svm because it normally takes much longer to execute"
   ]
  },
  {
   "cell_type": "code",
   "execution_count": 12,
   "id": "73d0753f",
   "metadata": {},
   "outputs": [],
   "source": [
    "clf = svm.SVC()\n",
    "clf.fit(X_train, Y_train)\n",
    "y_pred = clf.predict(X_test)"
   ]
  },
  {
   "cell_type": "code",
   "execution_count": 13,
   "id": "12da0a5f",
   "metadata": {},
   "outputs": [
    {
     "name": "stdout",
     "output_type": "stream",
     "text": [
      "model score: 0.776\n",
      "Accuracy: 0.7758318739054291\n"
     ]
    }
   ],
   "source": [
    "print(\"model score: %.3f\" % clf.score(X_test, Y_test))\n",
    "print(\"Accuracy:\",metrics.accuracy_score(Y_test, y_pred))"
   ]
  },
  {
   "cell_type": "markdown",
   "id": "49b4750c",
   "metadata": {},
   "source": [
    "we obtain worse metrics with respect to the previous problems. It is ruled out."
   ]
  },
  {
   "cell_type": "markdown",
   "id": "55233762",
   "metadata": {},
   "source": [
    "#### GLM \n",
    "\n",
    "We will test 3 GLM models although we have previously tested the Stocastic Gradient Descent"
   ]
  },
  {
   "cell_type": "code",
   "execution_count": 15,
   "id": "f6d597b7",
   "metadata": {
    "scrolled": true
   },
   "outputs": [
    {
     "name": "stdout",
     "output_type": "stream",
     "text": [
      "Ridge()\n",
      "model score: 0.597\n",
      "Lasso()\n",
      "model score: 0.336\n",
      "BayesianRidge()\n",
      "model score: 0.597\n"
     ]
    }
   ],
   "source": [
    "classifiers = [\n",
    "    linear_model.Ridge(),\n",
    "    linear_model.Lasso(),\n",
    "    linear_model.BayesianRidge(),\n",
    "    ]\n",
    "\n",
    "get_GLM_models_score(classifiers, X_train, Y_train)"
   ]
  },
  {
   "cell_type": "markdown",
   "id": "7aa8a34b",
   "metadata": {},
   "source": [
    "In general, much worse results. We continue with the LightGBM"
   ]
  },
  {
   "cell_type": "markdown",
   "id": "741ca67b",
   "metadata": {},
   "source": [
    "### Selected Model Tuning "
   ]
  },
  {
   "cell_type": "markdown",
   "id": "0e593af5",
   "metadata": {},
   "source": [
    "The model that has given us the best results is the LightGBM. Therefore we proceed to adjust the parameters to see if we can obtain better results."
   ]
  },
  {
   "cell_type": "code",
   "execution_count": 16,
   "id": "7bbd1a8b",
   "metadata": {},
   "outputs": [],
   "source": [
    "LGBM = lgb.LGBMClassifier()"
   ]
  },
  {
   "cell_type": "code",
   "execution_count": 17,
   "id": "a56d8c26",
   "metadata": {
    "scrolled": false
   },
   "outputs": [
    {
     "name": "stderr",
     "output_type": "stream",
     "text": [
      "<frozen importlib._bootstrap>:228: RuntimeWarning: scipy._lib.messagestream.MessageStream size changed, may indicate binary incompatibility. Expected 56 from C header, got 64 from PyObject\n",
      "<frozen importlib._bootstrap>:228: RuntimeWarning: scipy._lib.messagestream.MessageStream size changed, may indicate binary incompatibility. Expected 56 from C header, got 64 from PyObject\n"
     ]
    },
    {
     "name": "stdout",
     "output_type": "stream",
     "text": [
      "[LightGBM] [Warning] Unknown parameter: bagging_frequency\n",
      "[LightGBM] [Warning] min_data_in_leaf is set=10, min_child_samples=20 will be ignored. Current value: min_data_in_leaf=10\n",
      "[LightGBM] [Warning] bagging_fraction is set=0.8, subsample=1.0 will be ignored. Current value: bagging_fraction=0.8\n",
      "[LightGBM] [Warning] feature_fraction is set=0.8, colsample_bytree=1.0 will be ignored. Current value: feature_fraction=0.8\n",
      "{'num_leaves': 200, 'n_estimators': 100, 'min_data_in_leaf': 10, 'max_depth': 20, 'feature_fraction': 0.8, 'bagging_frequency': 5, 'bagging_fraction': 0.8}\n",
      "0.9766523867809056\n"
     ]
    }
   ],
   "source": [
    "tuning_LGBM(LGBM, X_train, Y_train)"
   ]
  },
  {
   "cell_type": "markdown",
   "id": "1c1abb19",
   "metadata": {},
   "source": [
    "It appers that with the parameters selection function we get worse results. My initial thoughts are that the score we get with the automatic model are the best results we can achieved. Lets try manually introducing them"
   ]
  },
  {
   "cell_type": "code",
   "execution_count": 18,
   "id": "588d0eec",
   "metadata": {},
   "outputs": [
    {
     "name": "stdout",
     "output_type": "stream",
     "text": [
      "model score: 0.982\n",
      "Accuracy: 0.9824868651488616\n"
     ]
    }
   ],
   "source": [
    "LGBM = lgb.LGBMClassifier(bagging_fraction=1, bagging_frequency =1, boosting_type='gbdt', colsample_bytree=1.0,\n",
    "        importance_type='split', learning_rate=0.1, max_depth=20,\n",
    "        min_child_samples=20, min_child_weight=0.001, min_split_gain=0.0,\n",
    "        n_estimators=100, num_leaves=31, min_data_in_leaf=20,\n",
    "        subsample=1.0, subsample_for_bin=200000, subsample_freq=0, cv=10, random_state=seed, n_jobs=1)\n",
    "\n",
    "LGBM.fit(X_train, Y_train)\n",
    "y_pred = LGBM.predict(X_test)\n",
    "\n",
    "print(\"model score: %.3f\" % LGBM.score(X_test, Y_test))\n",
    "print(\"Accuracy:\",metrics.accuracy_score(Y_test, y_pred))\n"
   ]
  },
  {
   "cell_type": "markdown",
   "id": "b90d3e4d",
   "metadata": {},
   "source": [
    "As expected. I consider we cant achieve a better result. Lets print the model report."
   ]
  },
  {
   "cell_type": "code",
   "execution_count": 19,
   "id": "9e2de4da",
   "metadata": {},
   "outputs": [
    {
     "name": "stdout",
     "output_type": "stream",
     "text": [
      "Classification Report\n",
      "              precision    recall  f1-score   support\n",
      "\n",
      "           0       0.99      0.98      0.98       294\n",
      "           1       0.98      0.99      0.98       277\n",
      "\n",
      "    accuracy                           0.98       571\n",
      "   macro avg       0.98      0.98      0.98       571\n",
      "weighted avg       0.98      0.98      0.98       571\n",
      "\n"
     ]
    }
   ],
   "source": [
    "get_model_report(Y_test, y_pred)"
   ]
  },
  {
   "cell_type": "markdown",
   "id": "34c32fe5",
   "metadata": {},
   "source": [
    "It seems that the treatment of variables and undersampling lead to good precision metrics for the model and f1. Later, we will see f2 to see how the fact of evaluating a transaction as genuine is penalized but it turns out to be a fraud. We get a good recall, since we have a high probability of predicting whether it is fraud or not. Thanks to this metric, we know that we have a high predictive power with this model for fraud, that is, we accurately predict the people who commit fraud.\n",
    "\n",
    "Regarding the precision (we predict as fraud and they really are fraud) we obtain a very good value, so the model is very good.\n",
    "\n",
    "However, we will have to evaluate the confusion matrix to see how it affects the worst case, but a priori it seems that we are going to have good results.\n",
    "\n",
    "Regarding f1, since we have good values in the other two metrics, we get a good score."
   ]
  },
  {
   "cell_type": "markdown",
   "id": "ea230fca",
   "metadata": {},
   "source": [
    "### Metrics"
   ]
  },
  {
   "cell_type": "markdown",
   "id": "61d3da6c",
   "metadata": {},
   "source": [
    "##### Confusion matrix"
   ]
  },
  {
   "cell_type": "code",
   "execution_count": 23,
   "id": "8ab56f1e",
   "metadata": {
    "scrolled": true
   },
   "outputs": [
    {
     "name": "stdout",
     "output_type": "stream",
     "text": [
      "Confusion matrix, without normalization\n",
      "[[288   6]\n",
      " [  4 273]]\n",
      "Normalized confusion matrix\n",
      "[[0.97959184 0.02040816]\n",
      " [0.01444043 0.98555957]]\n"
     ]
    },
    {
     "data": {
      "image/png": "[encoded data removed]",
      "text/plain": [
       "<Figure size 432x288 with 2 Axes>"
      ]
     },
     "metadata": {
      "needs_background": "light"
     },
     "output_type": "display_data"
    },
    {
     "data": {
      "image/png": "[encoded data removed]",
      "text/plain": [
       "<Figure size 432x288 with 2 Axes>"
      ]
     },
     "metadata": {
      "needs_background": "light"
     },
     "output_type": "display_data"
    }
   ],
   "source": [
    "get_confusion_matrix(LGBM, X_test, Y_test)"
   ]
  },
  {
   "cell_type": "markdown",
   "id": "35563a94",
   "metadata": {},
   "source": [
    "According to the confusion matrix, we are getting very good results in the predictions. We have to take into consideration that the set has been under sampled, thats why we get less observations.\n",
    "\n",
    "In the worst case (which would be that we evaluate a transaction as non-fraud, that is, a genuine transaction) but it really is a fraudulent transaction, we would be failing by 1%. In other words, we are missing 4 frauds according to the under sampling that we have done, which is not bad at all. Likewise, when we evaluate a transaction as fraud but it ends up being genuine, we would be making a 2% error. Therefore, we have good results."
   ]
  },
  {
   "cell_type": "code",
   "execution_count": 24,
   "id": "c1be1a8b",
   "metadata": {},
   "outputs": [],
   "source": [
    "prob_predictions = LGBM.predict_proba(X_test)"
   ]
  },
  {
   "cell_type": "code",
   "execution_count": 25,
   "id": "19c4f407",
   "metadata": {},
   "outputs": [],
   "source": [
    "yhat = prob_predictions[:, 1]"
   ]
  },
  {
   "cell_type": "markdown",
   "id": "5f17a0c4",
   "metadata": {},
   "source": [
    "#### ROC Curve"
   ]
  },
  {
   "cell_type": "code",
   "execution_count": 26,
   "id": "da93ce0d",
   "metadata": {
    "scrolled": true
   },
   "outputs": [
    {
     "data": {
      "image/png": "[encoded data removed]",
      "text/plain": [
       "<Figure size 432x288 with 1 Axes>"
      ]
     },
     "metadata": {
      "needs_background": "light"
     },
     "output_type": "display_data"
    },
    {
     "name": "stdout",
     "output_type": "stream",
     "text": [
      "Best Threshold=0.517904, G-Mean=0.983\n"
     ]
    },
    {
     "data": {
      "image/png": "[encoded data removed]",
      "text/plain": [
       "<Figure size 432x288 with 1 Axes>"
      ]
     },
     "metadata": {
      "needs_background": "light"
     },
     "output_type": "display_data"
    }
   ],
   "source": [
    "get_roc_curves(Y_test, yhat)"
   ]
  },
  {
   "cell_type": "markdown",
   "id": "be4285c8",
   "metadata": {},
   "source": [
    "As we can see in the graph, the roc curve falls under the area at the top-left corner which indicates good performance levels. This also indicates us that our model is predicting correctly the true positives instead of falling to the right bottom corner which will lead to a bad performance model which will lead to a highly rate in predicting false positives. The second graph indicates the optimal threshold for this model which is 0.51%."
   ]
  },
  {
   "cell_type": "code",
   "execution_count": 27,
   "id": "58bf27ff",
   "metadata": {},
   "outputs": [],
   "source": [
    "precision, recall, thresholds = precision_recall_curve(Y_test, yhat)"
   ]
  },
  {
   "cell_type": "markdown",
   "id": "e64bf22a",
   "metadata": {},
   "source": [
    "#### Precission-Recall Curve"
   ]
  },
  {
   "cell_type": "code",
   "execution_count": 28,
   "id": "7850bc3d",
   "metadata": {
    "scrolled": true
   },
   "outputs": [
    {
     "data": {
      "image/png": "[encoded data removed]",
      "text/plain": [
       "<Figure size 432x288 with 1 Axes>"
      ]
     },
     "metadata": {
      "needs_background": "light"
     },
     "output_type": "display_data"
    },
    {
     "name": "stdout",
     "output_type": "stream",
     "text": [
      "Best Threshold=0.517904, F-Score=0.982\n"
     ]
    },
    {
     "data": {
      "image/png": "[encoded data removed]",
      "text/plain": [
       "<Figure size 432x288 with 1 Axes>"
      ]
     },
     "metadata": {
      "needs_background": "light"
     },
     "output_type": "display_data"
    }
   ],
   "source": [
    "get_precission_recall_curve(Y_test)"
   ]
  },
  {
   "cell_type": "markdown",
   "id": "65fb33cd",
   "metadata": {},
   "source": [
    "In this case we got a high AUC-PR score,which is the are under the precission recall curve. This curve, as the ROC curve gives us the weighted mean of precision achieved at each threshold. The optimal threshold given by this curve hints us that we are following a correct path as it gives as the same optimal threshold."
   ]
  },
  {
   "cell_type": "code",
   "execution_count": 29,
   "id": "280372ac",
   "metadata": {},
   "outputs": [
    {
     "name": "stdout",
     "output_type": "stream",
     "text": [
      "F-Score: 0.98201\n"
     ]
    }
   ],
   "source": [
    "score = f1_score(Y_test, y_pred)\n",
    "print('F-Score: %.5f' % score)"
   ]
  },
  {
   "cell_type": "markdown",
   "id": "90de0716",
   "metadata": {},
   "source": [
    "#### Cumulative gains curve"
   ]
  },
  {
   "cell_type": "code",
   "execution_count": 30,
   "id": "004968e6",
   "metadata": {
    "scrolled": false
   },
   "outputs": [
    {
     "data": {
      "image/png": "[encoded data removed]",
      "text/plain": [
       "<Figure size 432x288 with 1 Axes>"
      ]
     },
     "metadata": {
      "needs_background": "light"
     },
     "output_type": "display_data"
    }
   ],
   "source": [
    "skplt.metrics.plot_cumulative_gain(Y_test, prob_predictions)\n",
    "plt.show()"
   ]
  },
  {
   "cell_type": "markdown",
   "id": "7da19aa9",
   "metadata": {},
   "source": [
    "According to the cumulative curve, if we approach 20% of our transaction base (x-axis), we will get over 80% of all the fraud transactions (y-axis). With 40% of the sample we will get all the frauds detected."
   ]
  },
  {
   "cell_type": "markdown",
   "id": "f2e37ae6",
   "metadata": {},
   "source": [
    "#### Lift curve"
   ]
  },
  {
   "cell_type": "code",
   "execution_count": 31,
   "id": "776fc366",
   "metadata": {
    "scrolled": false
   },
   "outputs": [
    {
     "data": {
      "image/png": "[encoded data removed]",
      "text/plain": [
       "<Figure size 432x288 with 1 Axes>"
      ]
     },
     "metadata": {
      "needs_background": "light"
     },
     "output_type": "display_data"
    }
   ],
   "source": [
    "skplt.metrics.plot_lift_curve(Y_test, prob_predictions)\n",
    "plt.show()"
   ]
  },
  {
   "cell_type": "markdown",
   "id": "97f8229a",
   "metadata": {},
   "source": [
    "This curve informs us on how much better our model predicts than randomly guessing. For example, using the 10% of our best predictions, our model is about 2 times better than randomly selecting 10% from our transaction pool. "
   ]
  },
  {
   "cell_type": "code",
   "execution_count": 33,
   "id": "6998a466",
   "metadata": {
    "scrolled": true
   },
   "outputs": [
    {
     "data": {
      "text/plain": [
       "0.984138428262437"
      ]
     },
     "execution_count": 33,
     "metadata": {},
     "output_type": "execute_result"
    }
   ],
   "source": [
    "fbeta_score(Y_test, y_pred, beta=beta)"
   ]
  },
  {
   "cell_type": "markdown",
   "id": "bf77263a",
   "metadata": {},
   "source": [
    "In this case we are interested in knowing the F2, since it allows us to know what the penalty is when we predict that it is not fraud but it really is, in this case, the worst scenario. We established beta value as 2 to make recall value more important than a Precision one. In other words, it focuses on minimizing False Negatives than minimizing False Positives which it is what interest us. In this case, as we are correctly classifing samples(in the majority of the cases for this model),we are getting higher Precision and Recall scores which will give us a higher F-measure value."
   ]
  },
  {
   "cell_type": "markdown",
   "id": "ead6d331",
   "metadata": {},
   "source": [
    "### Next, I am going to try without balancing the data and scaling the variables."
   ]
  },
  {
   "cell_type": "code",
   "execution_count": 15,
   "id": "01488b2d",
   "metadata": {},
   "outputs": [],
   "source": [
    "X_train, X_test, Y_train, Y_test = train_test_split(x, y, test_size=test_size, stratify = y, random_state=seed)"
   ]
  },
  {
   "cell_type": "markdown",
   "id": "f934974f",
   "metadata": {},
   "source": [
    "#### We scale variables"
   ]
  },
  {
   "cell_type": "code",
   "execution_count": 16,
   "id": "3102b81c",
   "metadata": {},
   "outputs": [],
   "source": [
    "scaler = StandardScaler()\n",
    "model_scaled = scaler.fit(X_train)\n",
    "X_train = pd.DataFrame(scaler.transform(X_train), columns=X_train.columns, index=X_train.index)\n",
    "X_test = pd.DataFrame(scaler.transform(X_test), columns=X_test.columns, index=X_test.index)"
   ]
  },
  {
   "cell_type": "markdown",
   "id": "ae4f8e77",
   "metadata": {},
   "source": [
    "### Models"
   ]
  },
  {
   "cell_type": "code",
   "execution_count": 33,
   "id": "6dd32b45",
   "metadata": {
    "scrolled": false
   },
   "outputs": [
    {
     "name": "stdout",
     "output_type": "stream",
     "text": [
      "AdaBoostClassifier()\n",
      "model score: 1.000\n",
      "Accuracy: 0.9995193481445312\n",
      "GradientBoostingClassifier()\n",
      "model score: 1.000\n",
      "Accuracy: 0.9996910095214844\n",
      "KNeighborsClassifier()\n",
      "model score: 0.999\n",
      "Accuracy: 0.999114990234375\n",
      "XGBClassifier(base_score=0.5, booster='gbtree', callbacks=None,\n",
      "              colsample_bylevel=1, colsample_bynode=1, colsample_bytree=1,\n",
      "              early_stopping_rounds=None, enable_categorical=False,\n",
      "              eval_metric=None, feature_types=None, gamma=0, gpu_id=-1,\n",
      "              grow_policy='depthwise', importance_type=None,\n",
      "              interaction_constraints='', learning_rate=0.300000012,\n",
      "              max_bin=256, max_cat_threshold=64, max_cat_to_onehot=4,\n",
      "              max_delta_step=0, max_depth=6, max_leaves=0, min_child_weight=1,\n",
      "              missing=nan, monotone_constraints='()', n_estimators=100,\n",
      "              n_jobs=0, num_parallel_tree=1, predictor='auto', random_state=0, ...)\n",
      "model score: 1.000\n",
      "Accuracy: 0.9998092651367188\n",
      "LGBMClassifier()\n",
      "model score: 0.998\n",
      "Accuracy: 0.9976005554199219\n",
      "LogisticRegression()\n",
      "model score: 0.999\n",
      "Accuracy: 0.9991912841796875\n",
      "SGDClassifier()\n",
      "model score: 0.999\n",
      "Accuracy: 0.9988899230957031\n",
      "RandomForestClassifier()\n",
      "model score: 1.000\n",
      "Accuracy: 0.9997406005859375\n"
     ]
    }
   ],
   "source": [
    "classifiers = [\n",
    "    AdaBoostClassifier(),\n",
    "    GradientBoostingClassifier(),\n",
    "    KNeighborsClassifier(),\n",
    "    xgb.XGBClassifier(),\n",
    "    lgb.LGBMClassifier(),\n",
    "    LogisticRegression(),\n",
    "    SGDClassifier(),\n",
    "    RandomForestClassifier()\n",
    "    ]\n",
    "\n",
    "get_models_score(classifiers, X_train, Y_train)\n",
    "    "
   ]
  },
  {
   "cell_type": "markdown",
   "id": "e8af3bf9",
   "metadata": {},
   "source": [
    "Very good results. The best the XGBoost"
   ]
  },
  {
   "cell_type": "markdown",
   "id": "9ec59ee4",
   "metadata": {},
   "source": [
    "#### SVM"
   ]
  },
  {
   "cell_type": "code",
   "execution_count": 34,
   "id": "3026a14b",
   "metadata": {},
   "outputs": [],
   "source": [
    "clf = svm.SVC()\n",
    "clf.fit(X_train, Y_train)\n",
    "y_pred = clf.predict(X_test)"
   ]
  },
  {
   "cell_type": "code",
   "execution_count": 35,
   "id": "fa7f63a4",
   "metadata": {
    "scrolled": true
   },
   "outputs": [
    {
     "name": "stdout",
     "output_type": "stream",
     "text": [
      "model score: 0.999\n",
      "Accuracy: 0.9991683959960938\n"
     ]
    }
   ],
   "source": [
    "print(\"model score: %.3f\" % clf.score(X_test, Y_test))\n",
    "print(\"Accuracy:\",metrics.accuracy_score(Y_test, y_pred))"
   ]
  },
  {
   "cell_type": "markdown",
   "id": "0bf4d376",
   "metadata": {},
   "source": [
    "We get good values as expected. However, the a priori model to choose would correspond to the XGBoost."
   ]
  },
  {
   "cell_type": "markdown",
   "id": "2067a357",
   "metadata": {},
   "source": [
    "#### GLM Models"
   ]
  },
  {
   "cell_type": "code",
   "execution_count": 36,
   "id": "7da8cda9",
   "metadata": {
    "scrolled": true
   },
   "outputs": [
    {
     "name": "stdout",
     "output_type": "stream",
     "text": [
      "Ridge()\n",
      "model score: 0.133\n",
      "Lasso()\n",
      "model score: -0.000\n",
      "BayesianRidge()\n",
      "model score: 0.133\n"
     ]
    }
   ],
   "source": [
    "classifiers = [\n",
    "    linear_model.Ridge(),\n",
    "    linear_model.Lasso(),\n",
    "    linear_model.BayesianRidge(),\n",
    "    ]\n",
    "\n",
    "get_GLM_models_score(classifiers, X_train, Y_train)"
   ]
  },
  {
   "cell_type": "markdown",
   "id": "4d9c6ebf",
   "metadata": {},
   "source": [
    "### Selected Model Tuning"
   ]
  },
  {
   "cell_type": "code",
   "execution_count": 38,
   "id": "6d65dfa3",
   "metadata": {},
   "outputs": [],
   "source": [
    "XGB = xgb.XGBClassifier()"
   ]
  },
  {
   "cell_type": "code",
   "execution_count": 41,
   "id": "2b3fbdf6",
   "metadata": {},
   "outputs": [
    {
     "name": "stderr",
     "output_type": "stream",
     "text": [
      "<frozen importlib._bootstrap>:228: RuntimeWarning: scipy._lib.messagestream.MessageStream size changed, may indicate binary incompatibility. Expected 56 from C header, got 64 from PyObject\n",
      "<frozen importlib._bootstrap>:228: RuntimeWarning: scipy._lib.messagestream.MessageStream size changed, may indicate binary incompatibility. Expected 56 from C header, got 64 from PyObject\n",
      "\n",
      "KeyboardInterrupt\n",
      "\n"
     ]
    }
   ],
   "source": [
    "tuning_XGB(XGB, X_train, Y_train)"
   ]
  },
  {
   "cell_type": "markdown",
   "id": "2205c463",
   "metadata": {},
   "source": [
    "As expected, due to the nature of the dataset(large dataset) the requiered computing power and time exceeds my capacities. Since it takes to much time, I will try to manually perform the model instead of trying several values for the different parameters."
   ]
  },
  {
   "cell_type": "code",
   "execution_count": 17,
   "id": "6f8dd4de",
   "metadata": {},
   "outputs": [
    {
     "name": "stdout",
     "output_type": "stream",
     "text": [
      "[19:40:18] WARNING: /Users/runner/work/xgboost/xgboost/python-package/build/temp.macosx-10.9-x86_64-cpython-38/xgboost/src/learner.cc:767: \n",
      "Parameters: { \"cv\", \"verbose\" } are not used.\n",
      "\n",
      "model score: 1.000\n",
      "Accuracy: 0.9997940063476562\n"
     ]
    }
   ],
   "source": [
    "XGB = xgb.XGBClassifier(base_score=0.5, learning_rate=0.3, booster='gbtree', max_depth=6,\n",
    "                         min_child_weight=3, n_estimators=100, \n",
    "                        subsample=0.5,verbose=1, cv=10, random_state=seed, n_jobs=1)\n",
    "\n",
    "XGB.fit(X_train, Y_train)\n",
    "y_pred = XGB.predict(X_test)\n",
    "\n",
    "print(\"model score: %.3f\" % XGB.score(X_test, Y_test))\n",
    "print(\"Accuracy:\",metrics.accuracy_score(Y_test, y_pred))"
   ]
  },
  {
   "cell_type": "markdown",
   "id": "d0b12c18",
   "metadata": {},
   "source": [
    "We get a slighly better sceneraio with this tuning. Lets print the model report. "
   ]
  },
  {
   "cell_type": "code",
   "execution_count": 18,
   "id": "151c6c2a",
   "metadata": {
    "scrolled": true
   },
   "outputs": [
    {
     "name": "stdout",
     "output_type": "stream",
     "text": [
      "Classification Report\n",
      "              precision    recall  f1-score   support\n",
      "\n",
      "           0       1.00      1.00      1.00    261858\n",
      "           1       0.98      0.83      0.90       286\n",
      "\n",
      "    accuracy                           1.00    262144\n",
      "   macro avg       0.99      0.91      0.95    262144\n",
      "weighted avg       1.00      1.00      1.00    262144\n",
      "\n"
     ]
    }
   ],
   "source": [
    "get_model_report(Y_test, y_pred)"
   ]
  },
  {
   "cell_type": "markdown",
   "id": "acd8f1cd",
   "metadata": {},
   "source": [
    "Recall has slightly been reduced compared to the under sampled case. Lets see the confusion matrix to see if the target variable is correctly predicted."
   ]
  },
  {
   "cell_type": "code",
   "execution_count": 20,
   "id": "5374d2a4",
   "metadata": {
    "scrolled": true
   },
   "outputs": [
    {
     "name": "stdout",
     "output_type": "stream",
     "text": [
      "Confusion matrix, without normalization\n",
      "[[261854      4]\n",
      " [    50    236]]\n",
      "Normalized confusion matrix\n",
      "[[9.99984725e-01 1.52754546e-05]\n",
      " [1.74825175e-01 8.25174825e-01]]\n"
     ]
    },
    {
     "data": {
      "image/png": "[encoded data removed]",
      "text/plain": [
       "<Figure size 432x288 with 2 Axes>"
      ]
     },
     "metadata": {
      "needs_background": "light"
     },
     "output_type": "display_data"
    },
    {
     "data": {
      "image/png": "[encoded data removed]",
      "text/plain": [
       "<Figure size 432x288 with 2 Axes>"
      ]
     },
     "metadata": {
      "needs_background": "light"
     },
     "output_type": "display_data"
    }
   ],
   "source": [
    "get_confusion_matrix(XGB, X_test, Y_test)"
   ]
  },
  {
   "cell_type": "markdown",
   "id": "6c4679e2",
   "metadata": {},
   "source": [
    "Despite the fact that now we are working with the complete dataset, fraud transactions are correctly predicted. In the worst scenario (Predicted 0 - True 1) we are missing just 50 case. This is impressive. In the least worst scenario ( Predicted 1 - True 0) we are missing 5, which taking into consideration the dimensions of the dataset is quite impressive.Better results overall compared to previous confusion matrix in this cases.However, we get a decrease in predicting frauds. Lets see the curves. "
   ]
  },
  {
   "cell_type": "code",
   "execution_count": 21,
   "id": "00c706ee",
   "metadata": {},
   "outputs": [],
   "source": [
    "prob_predictions = XGB.predict_proba(X_test)"
   ]
  },
  {
   "cell_type": "code",
   "execution_count": 22,
   "id": "a1d066f1",
   "metadata": {},
   "outputs": [],
   "source": [
    "yhat = prob_predictions[:, 1]"
   ]
  },
  {
   "cell_type": "markdown",
   "id": "3fa87a90",
   "metadata": {},
   "source": [
    "#### ROC Curve"
   ]
  },
  {
   "cell_type": "code",
   "execution_count": 23,
   "id": "68debf8f",
   "metadata": {
    "scrolled": true
   },
   "outputs": [
    {
     "data": {
      "image/png": "[encoded data removed]",
      "text/plain": [
       "<Figure size 432x288 with 1 Axes>"
      ]
     },
     "metadata": {
      "needs_background": "light"
     },
     "output_type": "display_data"
    },
    {
     "name": "stdout",
     "output_type": "stream",
     "text": [
      "Best Threshold=0.001639, G-Mean=0.984\n"
     ]
    },
    {
     "data": {
      "image/png": "[encoded data removed]",
      "text/plain": [
       "<Figure size 432x288 with 1 Axes>"
      ]
     },
     "metadata": {
      "needs_background": "light"
     },
     "output_type": "display_data"
    }
   ],
   "source": [
    "get_roc_curves(Y_test, yhat)"
   ]
  },
  {
   "cell_type": "markdown",
   "id": "893a64ec",
   "metadata": {},
   "source": [
    "#### Precission-Recall Function"
   ]
  },
  {
   "cell_type": "code",
   "execution_count": 26,
   "id": "fc2fa061",
   "metadata": {
    "scrolled": true
   },
   "outputs": [],
   "source": [
    "precision, recall, thresholds = precision_recall_curve(Y_test, yhat)"
   ]
  },
  {
   "cell_type": "code",
   "execution_count": 27,
   "id": "919f0ff5",
   "metadata": {},
   "outputs": [
    {
     "data": {
      "image/png": "[encoded data removed]",
      "text/plain": [
       "<Figure size 432x288 with 1 Axes>"
      ]
     },
     "metadata": {
      "needs_background": "light"
     },
     "output_type": "display_data"
    },
    {
     "name": "stdout",
     "output_type": "stream",
     "text": [
      "Best Threshold=0.446729, F-Score=0.905\n"
     ]
    },
    {
     "data": {
      "image/png": "[encoded data removed]",
      "text/plain": [
       "<Figure size 432x288 with 1 Axes>"
      ]
     },
     "metadata": {
      "needs_background": "light"
     },
     "output_type": "display_data"
    }
   ],
   "source": [
    "get_precission_recall_curve(Y_test)"
   ]
  },
  {
   "cell_type": "markdown",
   "id": "a29e9cd4",
   "metadata": {},
   "source": [
    "#### Cumulative Gain Curve"
   ]
  },
  {
   "cell_type": "code",
   "execution_count": 28,
   "id": "89740b37",
   "metadata": {},
   "outputs": [
    {
     "data": {
      "image/png": "[encoded data removed]",
      "text/plain": [
       "<Figure size 432x288 with 1 Axes>"
      ]
     },
     "metadata": {
      "needs_background": "light"
     },
     "output_type": "display_data"
    }
   ],
   "source": [
    "skplt.metrics.plot_cumulative_gain(Y_test, prob_predictions)\n",
    "plt.show()"
   ]
  },
  {
   "cell_type": "markdown",
   "id": "6946e962",
   "metadata": {},
   "source": [
    "#### Lift Curve"
   ]
  },
  {
   "cell_type": "code",
   "execution_count": 29,
   "id": "8b1bd8d3",
   "metadata": {
    "scrolled": true
   },
   "outputs": [
    {
     "data": {
      "image/png": "[encoded data removed]",
      "text/plain": [
       "<Figure size 432x288 with 1 Axes>"
      ]
     },
     "metadata": {
      "needs_background": "light"
     },
     "output_type": "display_data"
    }
   ],
   "source": [
    "skplt.metrics.plot_lift_curve(Y_test, prob_predictions)\n",
    "plt.show()"
   ]
  },
  {
   "cell_type": "code",
   "execution_count": 30,
   "id": "b34379af",
   "metadata": {},
   "outputs": [
    {
     "data": {
      "text/plain": [
       "0.8526011560693642"
      ]
     },
     "execution_count": 30,
     "metadata": {},
     "output_type": "execute_result"
    }
   ],
   "source": [
    "fbeta_score(Y_test, y_pred, beta=beta)"
   ]
  },
  {
   "cell_type": "markdown",
   "id": "57a04795",
   "metadata": {},
   "source": [
    "We get a slighly worse F2 score compared to previous selected model (LGBM). Additionally, taking into account the results obtained with the confusion matrix and the curves, this model is not preferable as we are predicting incorrectly more false negatives."
   ]
  },
  {
   "cell_type": "markdown",
   "id": "17828bb2",
   "metadata": {},
   "source": [
    "## Option 2 - Models\n",
    "\n",
    "Lets see how the models work with the dataframe containing the fraud pattern."
   ]
  },
  {
   "cell_type": "code",
   "execution_count": 31,
   "id": "8ec6a2ed",
   "metadata": {},
   "outputs": [],
   "source": [
    "x = fraud_df_op2.drop('isFraud', axis = 1)\n",
    "y = fraud_df_op2.isFraud"
   ]
  },
  {
   "cell_type": "code",
   "execution_count": 32,
   "id": "2896c49e",
   "metadata": {},
   "outputs": [],
   "source": [
    "X_train, X_test, Y_train, Y_test = train_test_split(x, y, test_size=test_size, random_state=seed, stratify = y)"
   ]
  },
  {
   "cell_type": "code",
   "execution_count": 61,
   "id": "4575948c",
   "metadata": {},
   "outputs": [
    {
     "name": "stdout",
     "output_type": "stream",
     "text": [
      "AdaBoostClassifier()\n",
      "model score: 1.000\n",
      "Accuracy: 0.9999771118164062\n",
      "GradientBoostingClassifier()\n",
      "model score: 1.000\n",
      "Accuracy: 0.9999732971191406\n",
      "KNeighborsClassifier()\n",
      "model score: 0.999\n",
      "Accuracy: 0.9993095397949219\n",
      "XGBClassifier(base_score=0.5, booster='gbtree', callbacks=None,\n",
      "              colsample_bylevel=1, colsample_bynode=1, colsample_bytree=1,\n",
      "              early_stopping_rounds=None, enable_categorical=False,\n",
      "              eval_metric=None, feature_types=None, gamma=0, gpu_id=-1,\n",
      "              grow_policy='depthwise', importance_type=None,\n",
      "              interaction_constraints='', learning_rate=0.300000012,\n",
      "              max_bin=256, max_cat_threshold=64, max_cat_to_onehot=4,\n",
      "              max_delta_step=0, max_depth=6, max_leaves=0, min_child_weight=1,\n",
      "              missing=nan, monotone_constraints='()', n_estimators=100,\n",
      "              n_jobs=0, num_parallel_tree=1, predictor='auto', random_state=0, ...)\n",
      "model score: 1.000\n",
      "Accuracy: 0.9999809265136719\n",
      "LGBMClassifier()\n",
      "model score: 0.997\n",
      "Accuracy: 0.9974098205566406\n",
      "LogisticRegression()\n",
      "model score: 0.999\n",
      "Accuracy: 0.9991226196289062\n",
      "SGDClassifier()\n",
      "model score: 0.999\n",
      "Accuracy: 0.9987831115722656\n",
      "RandomForestClassifier()\n",
      "model score: 1.000\n",
      "Accuracy: 0.9999809265136719\n"
     ]
    }
   ],
   "source": [
    "classifiers = [\n",
    "    AdaBoostClassifier(),\n",
    "    GradientBoostingClassifier(),\n",
    "    KNeighborsClassifier(),\n",
    "    xgb.XGBClassifier(),\n",
    "    lgb.LGBMClassifier(),\n",
    "    LogisticRegression(),\n",
    "    SGDClassifier(),\n",
    "    RandomForestClassifier()\n",
    "    ]\n",
    "\n",
    "get_models_score(classifiers, X_train, Y_train)"
   ]
  },
  {
   "cell_type": "markdown",
   "id": "377f35f0",
   "metadata": {},
   "source": [
    "As expected with the fraud pattern, predictions are very clear for the different models. Lets try SVM and GLM models, but if we get worse results i will try RandomForest as the results are equally to XGBC."
   ]
  },
  {
   "cell_type": "markdown",
   "id": "0674b19a",
   "metadata": {},
   "source": [
    "#### GLM Models"
   ]
  },
  {
   "cell_type": "code",
   "execution_count": 10,
   "id": "19c96799",
   "metadata": {},
   "outputs": [
    {
     "name": "stdout",
     "output_type": "stream",
     "text": [
      "Ridge()\n",
      "model score: 0.979\n",
      "Lasso()\n",
      "model score: 0.105\n",
      "BayesianRidge()\n",
      "model score: 0.979\n"
     ]
    }
   ],
   "source": [
    "classifiers = [\n",
    "    linear_model.Ridge(),\n",
    "    linear_model.Lasso(),\n",
    "    linear_model.BayesianRidge(),\n",
    "    ]\n",
    "\n",
    "get_GLM_models_score(classifiers, X_train, Y_train)"
   ]
  },
  {
   "cell_type": "markdown",
   "id": "e5082e81",
   "metadata": {},
   "source": [
    "Lets use as the selected model : RandomForest."
   ]
  },
  {
   "cell_type": "code",
   "execution_count": 13,
   "id": "c0df13a3",
   "metadata": {},
   "outputs": [],
   "source": [
    "rf = RandomForestClassifier()"
   ]
  },
  {
   "cell_type": "code",
   "execution_count": 39,
   "id": "abfc9883",
   "metadata": {},
   "outputs": [
    {
     "name": "stdout",
     "output_type": "stream",
     "text": [
      "model score: 1.000\n",
      "Accuracy: 0.9999809265136719\n"
     ]
    }
   ],
   "source": [
    "rf = RandomForestClassifier(n_estimators=100, max_features='auto', \n",
    "                            max_depth=6, criterion='gini',\n",
    "                            random_state=seed, n_jobs=1)\n",
    "rf.fit(X_train, Y_train)\n",
    "y_pred = rf.predict(X_test)\n",
    "\n",
    "print(\"model score: %.3f\" % rf.score(X_test, Y_test))\n",
    "print(\"Accuracy:\",metrics.accuracy_score(Y_test, y_pred))"
   ]
  },
  {
   "cell_type": "markdown",
   "id": "47d5f759",
   "metadata": {},
   "source": [
    "it seems score can be exceeded. That is the best configuration. As I said previously the selection of variables and EDA has allowed us to perfectly detect the fraud, leading to automatic models having the better score. "
   ]
  },
  {
   "cell_type": "code",
   "execution_count": 40,
   "id": "58ef59b3",
   "metadata": {},
   "outputs": [
    {
     "name": "stdout",
     "output_type": "stream",
     "text": [
      "Classification Report\n",
      "              precision    recall  f1-score   support\n",
      "\n",
      "           0       1.00      1.00      1.00    261858\n",
      "           1       1.00      0.98      0.99       286\n",
      "\n",
      "    accuracy                           1.00    262144\n",
      "   macro avg       1.00      0.99      1.00    262144\n",
      "weighted avg       1.00      1.00      1.00    262144\n",
      "\n"
     ]
    }
   ],
   "source": [
    "get_model_report(Y_test, y_pred)"
   ]
  },
  {
   "cell_type": "code",
   "execution_count": 42,
   "id": "ac5a7c84",
   "metadata": {},
   "outputs": [
    {
     "name": "stdout",
     "output_type": "stream",
     "text": [
      "Confusion matrix, without normalization\n",
      "[[261858      0]\n",
      " [     5    281]]\n",
      "Normalized confusion matrix\n",
      "[[1.         0.        ]\n",
      " [0.01748252 0.98251748]]\n"
     ]
    },
    {
     "data": {
      "image/png": "[encoded data removed]",
      "text/plain": [
       "<Figure size 432x288 with 2 Axes>"
      ]
     },
     "metadata": {
      "needs_background": "light"
     },
     "output_type": "display_data"
    },
    {
     "data": {
      "image/png": "[encoded data removed]",
      "text/plain": [
       "<Figure size 432x288 with 2 Axes>"
      ]
     },
     "metadata": {
      "needs_background": "light"
     },
     "output_type": "display_data"
    }
   ],
   "source": [
    "get_confusion_matrix(rf, X_test, Y_test)"
   ]
  },
  {
   "cell_type": "markdown",
   "id": "bd81d6c0",
   "metadata": {},
   "source": [
    "As I clearly expected the model detects the fraud pattern perfectly leading to a very predictive model towards fraud. Just 5 cases are incorrectly predicted in the worst case."
   ]
  },
  {
   "cell_type": "code",
   "execution_count": 44,
   "id": "adc5b2ab",
   "metadata": {},
   "outputs": [],
   "source": [
    "prob_predictions = rf.predict_proba(X_test)"
   ]
  },
  {
   "cell_type": "code",
   "execution_count": 45,
   "id": "556eb6bb",
   "metadata": {},
   "outputs": [],
   "source": [
    "yhat = prob_predictions[:, 1]"
   ]
  },
  {
   "cell_type": "markdown",
   "id": "f1f62f10",
   "metadata": {},
   "source": [
    "#### ROC Curve"
   ]
  },
  {
   "cell_type": "code",
   "execution_count": 46,
   "id": "ec04ad3b",
   "metadata": {
    "scrolled": true
   },
   "outputs": [
    {
     "data": {
      "image/png": "[encoded data removed]",
      "text/plain": [
       "<Figure size 432x288 with 1 Axes>"
      ]
     },
     "metadata": {
      "needs_background": "light"
     },
     "output_type": "display_data"
    },
    {
     "name": "stdout",
     "output_type": "stream",
     "text": [
      "Best Threshold=0.014604, G-Mean=0.993\n"
     ]
    },
    {
     "data": {
      "image/png": "[encoded data removed]",
      "text/plain": [
       "<Figure size 432x288 with 1 Axes>"
      ]
     },
     "metadata": {
      "needs_background": "light"
     },
     "output_type": "display_data"
    }
   ],
   "source": [
    "get_roc_curves(Y_test, yhat)"
   ]
  },
  {
   "cell_type": "markdown",
   "id": "2b4cfaca",
   "metadata": {},
   "source": [
    "#### Precission-Recall curve"
   ]
  },
  {
   "cell_type": "code",
   "execution_count": 47,
   "id": "911b0bec",
   "metadata": {},
   "outputs": [],
   "source": [
    "precision, recall, thresholds = precision_recall_curve(Y_test, yhat)"
   ]
  },
  {
   "cell_type": "code",
   "execution_count": 48,
   "id": "a07b1df4",
   "metadata": {
    "scrolled": true
   },
   "outputs": [
    {
     "data": {
      "image/png": "[encoded data removed]",
      "text/plain": [
       "<Figure size 432x288 with 1 Axes>"
      ]
     },
     "metadata": {
      "needs_background": "light"
     },
     "output_type": "display_data"
    },
    {
     "name": "stdout",
     "output_type": "stream",
     "text": [
      "Best Threshold=0.650383, F-Score=0.991\n"
     ]
    },
    {
     "data": {
      "image/png": "[encoded data removed]",
      "text/plain": [
       "<Figure size 432x288 with 1 Axes>"
      ]
     },
     "metadata": {
      "needs_background": "light"
     },
     "output_type": "display_data"
    }
   ],
   "source": [
    "get_precission_recall_curve(Y_test)"
   ]
  },
  {
   "cell_type": "markdown",
   "id": "2640b80b",
   "metadata": {},
   "source": [
    "#### Cumulative gain curve"
   ]
  },
  {
   "cell_type": "code",
   "execution_count": 49,
   "id": "05e9e86a",
   "metadata": {},
   "outputs": [
    {
     "data": {
      "image/png": "[encoded data removed]",
      "text/plain": [
       "<Figure size 432x288 with 1 Axes>"
      ]
     },
     "metadata": {
      "needs_background": "light"
     },
     "output_type": "display_data"
    }
   ],
   "source": [
    "skplt.metrics.plot_cumulative_gain(Y_test, prob_predictions)\n",
    "plt.show()"
   ]
  },
  {
   "cell_type": "markdown",
   "id": "8ac18ba8",
   "metadata": {},
   "source": [
    "#### lift Curve"
   ]
  },
  {
   "cell_type": "code",
   "execution_count": 50,
   "id": "a2e3e244",
   "metadata": {
    "scrolled": false
   },
   "outputs": [
    {
     "data": {
      "image/png": "[encoded data removed]",
      "text/plain": [
       "<Figure size 432x288 with 1 Axes>"
      ]
     },
     "metadata": {
      "needs_background": "light"
     },
     "output_type": "display_data"
    }
   ],
   "source": [
    "skplt.metrics.plot_lift_curve(Y_test, prob_predictions)\n",
    "plt.show()"
   ]
  },
  {
   "cell_type": "markdown",
   "id": "85ccd2a4",
   "metadata": {},
   "source": [
    "As we can see from the curves, following the fraud pattern clearlt allows the model to easily detect frauds. We can grasp from the lift curve that our model just with 10% of the sample is way better than randomly predicting the output."
   ]
  },
  {
   "cell_type": "code",
   "execution_count": 51,
   "id": "b169ef8c",
   "metadata": {},
   "outputs": [
    {
     "data": {
      "text/plain": [
       "0.9859649122807017"
      ]
     },
     "execution_count": 51,
     "metadata": {},
     "output_type": "execute_result"
    }
   ],
   "source": [
    "fbeta_score(Y_test, y_pred, beta=beta)"
   ]
  },
  {
   "cell_type": "code",
   "execution_count": null,
   "id": "f11ce68e",
   "metadata": {},
   "outputs": [],
   "source": [
    "We get a very decent f2 score, therefore we are predicting correctly"
   ]
  },
  {
   "cell_type": "markdown",
   "id": "e253f5bf",
   "metadata": {},
   "source": [
    "All the metrics clearly tell us that this is the most model aswell as the best approach. We will conduct the SHAP model to see the interpretability of this model. "
   ]
  },
  {
   "cell_type": "markdown",
   "id": "fe724f27",
   "metadata": {},
   "source": [
    "## INTERPRETABILITY "
   ]
  },
  {
   "cell_type": "code",
   "execution_count": 62,
   "id": "64fdb29c",
   "metadata": {
    "scrolled": true
   },
   "outputs": [
    {
     "data": {
      "text/html": [
       "<div>\n",
       "<style scoped>\n",
       "    .dataframe tbody tr th:only-of-type {\n",
       "        vertical-align: middle;\n",
       "    }\n",
       "\n",
       "    .dataframe tbody tr th {\n",
       "        vertical-align: top;\n",
       "    }\n",
       "\n",
       "    .dataframe thead th {\n",
       "        text-align: right;\n",
       "    }\n",
       "</style>\n",
       "<table border=\"1\" class=\"dataframe\">\n",
       "  <thead>\n",
       "    <tr style=\"text-align: right;\">\n",
       "      <th></th>\n",
       "      <th>step</th>\n",
       "      <th>type_PAYMENT</th>\n",
       "      <th>type_TRANSFER</th>\n",
       "      <th>type_CASHOUT</th>\n",
       "      <th>type_DEBIT</th>\n",
       "      <th>type_CASHIN</th>\n",
       "      <th>amount</th>\n",
       "      <th>device_MAC</th>\n",
       "      <th>device_PC</th>\n",
       "      <th>device_IPHONE</th>\n",
       "      <th>...</th>\n",
       "      <th>zone_AFRICA</th>\n",
       "      <th>zone_MISSING</th>\n",
       "      <th>user_number</th>\n",
       "      <th>user_connections</th>\n",
       "      <th>security_alert</th>\n",
       "      <th>oldbalanceDest</th>\n",
       "      <th>newbalanceDest</th>\n",
       "      <th>Flagged_CC</th>\n",
       "      <th>Flagged_CM</th>\n",
       "      <th>Follows_FraudPattern</th>\n",
       "    </tr>\n",
       "  </thead>\n",
       "  <tbody>\n",
       "    <tr>\n",
       "      <th>715789</th>\n",
       "      <td>37</td>\n",
       "      <td>1</td>\n",
       "      <td>0</td>\n",
       "      <td>0</td>\n",
       "      <td>0</td>\n",
       "      <td>0</td>\n",
       "      <td>3634.25</td>\n",
       "      <td>0</td>\n",
       "      <td>0</td>\n",
       "      <td>0</td>\n",
       "      <td>...</td>\n",
       "      <td>1</td>\n",
       "      <td>0</td>\n",
       "      <td>1678</td>\n",
       "      <td>2</td>\n",
       "      <td>0</td>\n",
       "      <td>0.00</td>\n",
       "      <td>0.00</td>\n",
       "      <td>0</td>\n",
       "      <td>1</td>\n",
       "      <td>0</td>\n",
       "    </tr>\n",
       "    <tr>\n",
       "      <th>782441</th>\n",
       "      <td>39</td>\n",
       "      <td>1</td>\n",
       "      <td>0</td>\n",
       "      <td>0</td>\n",
       "      <td>0</td>\n",
       "      <td>0</td>\n",
       "      <td>19022.88</td>\n",
       "      <td>0</td>\n",
       "      <td>0</td>\n",
       "      <td>1</td>\n",
       "      <td>...</td>\n",
       "      <td>0</td>\n",
       "      <td>0</td>\n",
       "      <td>3461</td>\n",
       "      <td>9</td>\n",
       "      <td>1</td>\n",
       "      <td>0.00</td>\n",
       "      <td>0.00</td>\n",
       "      <td>0</td>\n",
       "      <td>1</td>\n",
       "      <td>0</td>\n",
       "    </tr>\n",
       "    <tr>\n",
       "      <th>45213</th>\n",
       "      <td>9</td>\n",
       "      <td>0</td>\n",
       "      <td>1</td>\n",
       "      <td>0</td>\n",
       "      <td>0</td>\n",
       "      <td>0</td>\n",
       "      <td>1486916.41</td>\n",
       "      <td>0</td>\n",
       "      <td>1</td>\n",
       "      <td>0</td>\n",
       "      <td>...</td>\n",
       "      <td>0</td>\n",
       "      <td>0</td>\n",
       "      <td>4961</td>\n",
       "      <td>5</td>\n",
       "      <td>0</td>\n",
       "      <td>616685.98</td>\n",
       "      <td>2103602.39</td>\n",
       "      <td>1</td>\n",
       "      <td>0</td>\n",
       "      <td>0</td>\n",
       "    </tr>\n",
       "    <tr>\n",
       "      <th>295126</th>\n",
       "      <td>15</td>\n",
       "      <td>0</td>\n",
       "      <td>0</td>\n",
       "      <td>1</td>\n",
       "      <td>0</td>\n",
       "      <td>0</td>\n",
       "      <td>11011.59</td>\n",
       "      <td>0</td>\n",
       "      <td>0</td>\n",
       "      <td>1</td>\n",
       "      <td>...</td>\n",
       "      <td>0</td>\n",
       "      <td>0</td>\n",
       "      <td>1913</td>\n",
       "      <td>7</td>\n",
       "      <td>0</td>\n",
       "      <td>610327.02</td>\n",
       "      <td>621338.61</td>\n",
       "      <td>1</td>\n",
       "      <td>0</td>\n",
       "      <td>0</td>\n",
       "    </tr>\n",
       "    <tr>\n",
       "      <th>975143</th>\n",
       "      <td>44</td>\n",
       "      <td>0</td>\n",
       "      <td>0</td>\n",
       "      <td>1</td>\n",
       "      <td>0</td>\n",
       "      <td>0</td>\n",
       "      <td>132125.61</td>\n",
       "      <td>0</td>\n",
       "      <td>1</td>\n",
       "      <td>0</td>\n",
       "      <td>...</td>\n",
       "      <td>1</td>\n",
       "      <td>0</td>\n",
       "      <td>1088</td>\n",
       "      <td>9</td>\n",
       "      <td>0</td>\n",
       "      <td>274318.52</td>\n",
       "      <td>406444.13</td>\n",
       "      <td>1</td>\n",
       "      <td>0</td>\n",
       "      <td>0</td>\n",
       "    </tr>\n",
       "    <tr>\n",
       "      <th>...</th>\n",
       "      <td>...</td>\n",
       "      <td>...</td>\n",
       "      <td>...</td>\n",
       "      <td>...</td>\n",
       "      <td>...</td>\n",
       "      <td>...</td>\n",
       "      <td>...</td>\n",
       "      <td>...</td>\n",
       "      <td>...</td>\n",
       "      <td>...</td>\n",
       "      <td>...</td>\n",
       "      <td>...</td>\n",
       "      <td>...</td>\n",
       "      <td>...</td>\n",
       "      <td>...</td>\n",
       "      <td>...</td>\n",
       "      <td>...</td>\n",
       "      <td>...</td>\n",
       "      <td>...</td>\n",
       "      <td>...</td>\n",
       "      <td>...</td>\n",
       "    </tr>\n",
       "    <tr>\n",
       "      <th>964211</th>\n",
       "      <td>44</td>\n",
       "      <td>0</td>\n",
       "      <td>0</td>\n",
       "      <td>0</td>\n",
       "      <td>0</td>\n",
       "      <td>1</td>\n",
       "      <td>168543.59</td>\n",
       "      <td>1</td>\n",
       "      <td>0</td>\n",
       "      <td>0</td>\n",
       "      <td>...</td>\n",
       "      <td>1</td>\n",
       "      <td>0</td>\n",
       "      <td>258</td>\n",
       "      <td>6</td>\n",
       "      <td>0</td>\n",
       "      <td>690070.22</td>\n",
       "      <td>521526.63</td>\n",
       "      <td>1</td>\n",
       "      <td>0</td>\n",
       "      <td>0</td>\n",
       "    </tr>\n",
       "    <tr>\n",
       "      <th>707080</th>\n",
       "      <td>37</td>\n",
       "      <td>0</td>\n",
       "      <td>0</td>\n",
       "      <td>1</td>\n",
       "      <td>0</td>\n",
       "      <td>0</td>\n",
       "      <td>81298.47</td>\n",
       "      <td>1</td>\n",
       "      <td>0</td>\n",
       "      <td>0</td>\n",
       "      <td>...</td>\n",
       "      <td>0</td>\n",
       "      <td>1</td>\n",
       "      <td>2410</td>\n",
       "      <td>8</td>\n",
       "      <td>0</td>\n",
       "      <td>103880.14</td>\n",
       "      <td>185178.60</td>\n",
       "      <td>1</td>\n",
       "      <td>0</td>\n",
       "      <td>0</td>\n",
       "    </tr>\n",
       "    <tr>\n",
       "      <th>578745</th>\n",
       "      <td>33</td>\n",
       "      <td>0</td>\n",
       "      <td>0</td>\n",
       "      <td>0</td>\n",
       "      <td>0</td>\n",
       "      <td>1</td>\n",
       "      <td>189149.07</td>\n",
       "      <td>0</td>\n",
       "      <td>0</td>\n",
       "      <td>0</td>\n",
       "      <td>...</td>\n",
       "      <td>0</td>\n",
       "      <td>0</td>\n",
       "      <td>2731</td>\n",
       "      <td>2</td>\n",
       "      <td>0</td>\n",
       "      <td>3026499.72</td>\n",
       "      <td>2837350.65</td>\n",
       "      <td>1</td>\n",
       "      <td>0</td>\n",
       "      <td>0</td>\n",
       "    </tr>\n",
       "    <tr>\n",
       "      <th>797217</th>\n",
       "      <td>40</td>\n",
       "      <td>1</td>\n",
       "      <td>0</td>\n",
       "      <td>0</td>\n",
       "      <td>0</td>\n",
       "      <td>0</td>\n",
       "      <td>2118.28</td>\n",
       "      <td>1</td>\n",
       "      <td>0</td>\n",
       "      <td>0</td>\n",
       "      <td>...</td>\n",
       "      <td>0</td>\n",
       "      <td>0</td>\n",
       "      <td>1112</td>\n",
       "      <td>6</td>\n",
       "      <td>0</td>\n",
       "      <td>0.00</td>\n",
       "      <td>0.00</td>\n",
       "      <td>0</td>\n",
       "      <td>1</td>\n",
       "      <td>0</td>\n",
       "    </tr>\n",
       "    <tr>\n",
       "      <th>918853</th>\n",
       "      <td>43</td>\n",
       "      <td>0</td>\n",
       "      <td>1</td>\n",
       "      <td>0</td>\n",
       "      <td>0</td>\n",
       "      <td>0</td>\n",
       "      <td>379081.61</td>\n",
       "      <td>1</td>\n",
       "      <td>0</td>\n",
       "      <td>0</td>\n",
       "      <td>...</td>\n",
       "      <td>0</td>\n",
       "      <td>1</td>\n",
       "      <td>3009</td>\n",
       "      <td>1</td>\n",
       "      <td>0</td>\n",
       "      <td>10877704.47</td>\n",
       "      <td>11256786.08</td>\n",
       "      <td>1</td>\n",
       "      <td>0</td>\n",
       "      <td>0</td>\n",
       "    </tr>\n",
       "  </tbody>\n",
       "</table>\n",
       "<p>262144 rows × 27 columns</p>\n",
       "</div>"
      ],
      "text/plain": [
       "        step  type_PAYMENT  type_TRANSFER  type_CASHOUT  type_DEBIT  \\\n",
       "715789    37             1              0             0           0   \n",
       "782441    39             1              0             0           0   \n",
       "45213      9             0              1             0           0   \n",
       "295126    15             0              0             1           0   \n",
       "975143    44             0              0             1           0   \n",
       "...      ...           ...            ...           ...         ...   \n",
       "964211    44             0              0             0           0   \n",
       "707080    37             0              0             1           0   \n",
       "578745    33             0              0             0           0   \n",
       "797217    40             1              0             0           0   \n",
       "918853    43             0              1             0           0   \n",
       "\n",
       "        type_CASHIN      amount  device_MAC  device_PC  device_IPHONE  ...  \\\n",
       "715789            0     3634.25           0          0              0  ...   \n",
       "782441            0    19022.88           0          0              1  ...   \n",
       "45213             0  1486916.41           0          1              0  ...   \n",
       "295126            0    11011.59           0          0              1  ...   \n",
       "975143            0   132125.61           0          1              0  ...   \n",
       "...             ...         ...         ...        ...            ...  ...   \n",
       "964211            1   168543.59           1          0              0  ...   \n",
       "707080            0    81298.47           1          0              0  ...   \n",
       "578745            1   189149.07           0          0              0  ...   \n",
       "797217            0     2118.28           1          0              0  ...   \n",
       "918853            0   379081.61           1          0              0  ...   \n",
       "\n",
       "        zone_AFRICA  zone_MISSING  user_number   user_connections  \\\n",
       "715789            1             0          1678                 2   \n",
       "782441            0             0          3461                 9   \n",
       "45213             0             0          4961                 5   \n",
       "295126            0             0          1913                 7   \n",
       "975143            1             0          1088                 9   \n",
       "...             ...           ...           ...               ...   \n",
       "964211            1             0           258                 6   \n",
       "707080            0             1          2410                 8   \n",
       "578745            0             0          2731                 2   \n",
       "797217            0             0          1112                 6   \n",
       "918853            0             1          3009                 1   \n",
       "\n",
       "        security_alert  oldbalanceDest  newbalanceDest  Flagged_CC  \\\n",
       "715789               0            0.00            0.00           0   \n",
       "782441               1            0.00            0.00           0   \n",
       "45213                0       616685.98      2103602.39           1   \n",
       "295126               0       610327.02       621338.61           1   \n",
       "975143               0       274318.52       406444.13           1   \n",
       "...                ...             ...             ...         ...   \n",
       "964211               0       690070.22       521526.63           1   \n",
       "707080               0       103880.14       185178.60           1   \n",
       "578745               0      3026499.72      2837350.65           1   \n",
       "797217               0            0.00            0.00           0   \n",
       "918853               0     10877704.47     11256786.08           1   \n",
       "\n",
       "        Flagged_CM  Follows_FraudPattern  \n",
       "715789           1                     0  \n",
       "782441           1                     0  \n",
       "45213            0                     0  \n",
       "295126           0                     0  \n",
       "975143           0                     0  \n",
       "...            ...                   ...  \n",
       "964211           0                     0  \n",
       "707080           0                     0  \n",
       "578745           0                     0  \n",
       "797217           1                     0  \n",
       "918853           0                     0  \n",
       "\n",
       "[262144 rows x 27 columns]"
      ]
     },
     "execution_count": 62,
     "metadata": {},
     "output_type": "execute_result"
    }
   ],
   "source": [
    "X_test"
   ]
  },
  {
   "cell_type": "code",
   "execution_count": 63,
   "id": "ddf2c0bf",
   "metadata": {},
   "outputs": [],
   "source": [
    "explainer = shap.TreeExplainer(rf)\n",
    "shap_values = explainer.shap_values(X_test)"
   ]
  },
  {
   "cell_type": "code",
   "execution_count": 64,
   "id": "904f4631",
   "metadata": {
    "scrolled": true
   },
   "outputs": [
    {
     "data": {
      "image/png": "[encoded data removed]",
      "text/plain": [
       "<Figure size 576x684 with 1 Axes>"
      ]
     },
     "metadata": {
      "needs_background": "light"
     },
     "output_type": "display_data"
    }
   ],
   "source": [
    "shap.summary_plot(shap_values, X_test) "
   ]
  },
  {
   "cell_type": "markdown",
   "id": "839f911b",
   "metadata": {},
   "source": [
    "Here we can see an ordered display of the variables by importance, oldbalance and fraudpattern variables are organised as the most important as expected and zone and device variables as the least. As we where predicting during the EDA analysis this variables where not relevant."
   ]
  },
  {
   "cell_type": "markdown",
   "id": "8e947871",
   "metadata": {},
   "source": [
    "#### Summary plot - Global model interpretability: \n",
    "\n",
    "To see the relationship of all the variables with the model, and the impact they have. With this graph we see the SHAP value of each feature in the training set. "
   ]
  },
  {
   "cell_type": "code",
   "execution_count": 69,
   "id": "f4aaf8c3",
   "metadata": {
    "scrolled": false
   },
   "outputs": [
    {
     "data": {
      "image/png": "[encoded data removed]",
      "text/plain": [
       "<Figure size 576x396 with 2 Axes>"
      ]
     },
     "metadata": {
      "needs_background": "light"
     },
     "output_type": "display_data"
    }
   ],
   "source": [
    "shap.summary_plot(shap_values[0], features=X_test, max_display=10)"
   ]
  },
  {
   "cell_type": "markdown",
   "id": "7f9e0b7d",
   "metadata": {},
   "source": [
    "Global model interpretability: We can see on the left axis ordered based on importance from top to bottom that oldbalanceOrg and Follows_FraudPattern variables are the moost important. I expected the fraud pattern to be the most important as for the order presented by the summary plot. However, it is evidently that oldbalance follows_fraudpattern and newbalanceorig are correlated, thus becoming the most important variables. In spite of this fact, we can see how if the fraudpattern has a high value (in this case I suppose 1 is the high value) it increases the probability of predicting a transaction as fraudulent. As mentioned earlier this is the one of the most important variables in our model, if not the most. As we cleared out in the EDA analysis this dataset contains a clear fraud pattern which allows to predict fraud easily. Apparently, having a higher value in the amount variable also increases the probability of evaluating a transaction as fraud, case which I did not contemplate in the EDA. "
   ]
  },
  {
   "cell_type": "markdown",
   "id": "8f38fb91",
   "metadata": {},
   "source": [
    "## FINAL CONCLUSIONS"
   ]
  },
  {
   "cell_type": "markdown",
   "id": "b15d67d4",
   "metadata": {},
   "source": [
    "My final conclusion about this dataset is that:\n",
    "    \n",
    "    1- The data that we are working with is probably synthetic dataset as fraud clearly follows a pattern. Transactions from client to client leaving to then proceed to perform a cashout of the same amount. \n",
    "    \n",
    "    2- During the elaboration of the model I have seriously considered whether to use the fraud pattern as a variable or not. At first I thought it would be better to let the model have more freedom to get better predictive power. However, the data is this and we have to work with it. If this were a real case, the pattern of fraud committed is very clear and therefore it has to be predicted as accurately as possible.\n",
    "    \n",
    "    3- We got evidently better results with the fraud patter dataframe, and scalling. Did not have computing power to conduct a over sampling an evaluate the results. However I am very satisfied with the model performance obtained.\n",
    "    \n",
    "    4- If people who commit fraud discover this pattern I believe the model will get worst results. However, thats the reason why I explored the scenario without the pattern and still get very good performance. "
   ]
  }
 ],
 "metadata": {
  "kernelspec": {
   "display_name": "Python 3 (ipykernel)",
   "language": "python",
   "name": "python3"
  },
  "language_info": {
   "codemirror_mode": {
    "name": "ipython",
    "version": 3
   },
   "file_extension": ".py",
   "mimetype": "text/x-python",
   "name": "python",
   "nbconvert_exporter": "python",
   "pygments_lexer": "ipython3",
   "version": "3.9.12"
  }
 },
 "nbformat": 4,
 "nbformat_minor": 5
}
